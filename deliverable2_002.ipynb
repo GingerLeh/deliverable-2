{
  "nbformat": 4,
  "nbformat_minor": 0,
  "metadata": {
    "colab": {
      "name": "deliverable2_002.ipynb",
      "provenance": [],
      "collapsed_sections": [],
      "include_colab_link": true
    },
    "kernelspec": {
      "name": "python3",
      "display_name": "Python 3"
    },
    "language_info": {
      "name": "python"
    }
  },
  "cells": [
    {
      "cell_type": "markdown",
      "metadata": {
        "id": "view-in-github",
        "colab_type": "text"
      },
      "source": [
        "<a href=\"https://colab.research.google.com/github/grupo21dex/deliverable-2/blob/main/deliverable2_002.ipynb\" target=\"_parent\"><img src=\"https://colab.research.google.com/assets/colab-badge.svg\" alt=\"Open In Colab\"/></a>"
      ]
    },
    {
      "cell_type": "markdown",
      "source": [
        "Bibliotecas utilizadas:"
      ],
      "metadata": {
        "id": "facBzj7xf3an"
      }
    },
    {
      "cell_type": "code",
      "execution_count": 1,
      "metadata": {
        "id": "tPkzWqG7b2lh"
      },
      "outputs": [],
      "source": [
        "import numpy as np \n",
        "import pandas as pd \n",
        "import matplotlib.pyplot as plt \n",
        "import seaborn as sns \n",
        "import scipy.stats as stats \n",
        "import geopy "
      ]
    },
    {
      "cell_type": "code",
      "source": [
        "df = pd.read_csv('Walmart.csv')"
      ],
      "metadata": {
        "id": "CEZKaPD-cUGq"
      },
      "execution_count": 2,
      "outputs": []
    },
    {
      "cell_type": "code",
      "source": [
        "df"
      ],
      "metadata": {
        "colab": {
          "base_uri": "https://localhost:8080/",
          "height": 423
        },
        "id": "-mstxBx7dF8X",
        "outputId": "d852135b-79b7-456b-d2c4-bf70516acab8"
      },
      "execution_count": 3,
      "outputs": [
        {
          "output_type": "execute_result",
          "data": {
            "text/plain": [
              "      Store        Date  Weekly_Sales  Holiday_Flag  Temperature  Fuel_Price  \\\n",
              "0         1  05-02-2010    1643690.90             0        42.31       2.572   \n",
              "1         1  12-02-2010    1641957.44             1        38.51       2.548   \n",
              "2         1  19-02-2010    1611968.17             0        39.93       2.514   \n",
              "3         1  26-02-2010    1409727.59             0        46.63       2.561   \n",
              "4         1  05-03-2010    1554806.68             0        46.50       2.625   \n",
              "...     ...         ...           ...           ...          ...         ...   \n",
              "6430     45  28-09-2012     713173.95             0        64.88       3.997   \n",
              "6431     45  05-10-2012     733455.07             0        64.89       3.985   \n",
              "6432     45  12-10-2012     734464.36             0        54.47       4.000   \n",
              "6433     45  19-10-2012     718125.53             0        56.47       3.969   \n",
              "6434     45  26-10-2012     760281.43             0        58.85       3.882   \n",
              "\n",
              "             CPI  Unemployment  \n",
              "0     211.096358         8.106  \n",
              "1     211.242170         8.106  \n",
              "2     211.289143         8.106  \n",
              "3     211.319643         8.106  \n",
              "4     211.350143         8.106  \n",
              "...          ...           ...  \n",
              "6430  192.013558         8.684  \n",
              "6431  192.170412         8.667  \n",
              "6432  192.327265         8.667  \n",
              "6433  192.330854         8.667  \n",
              "6434  192.308899         8.667  \n",
              "\n",
              "[6435 rows x 8 columns]"
            ],
            "text/html": [
              "\n",
              "  <div id=\"df-08bef9f9-3fca-4b7c-9c12-83c4b258208d\">\n",
              "    <div class=\"colab-df-container\">\n",
              "      <div>\n",
              "<style scoped>\n",
              "    .dataframe tbody tr th:only-of-type {\n",
              "        vertical-align: middle;\n",
              "    }\n",
              "\n",
              "    .dataframe tbody tr th {\n",
              "        vertical-align: top;\n",
              "    }\n",
              "\n",
              "    .dataframe thead th {\n",
              "        text-align: right;\n",
              "    }\n",
              "</style>\n",
              "<table border=\"1\" class=\"dataframe\">\n",
              "  <thead>\n",
              "    <tr style=\"text-align: right;\">\n",
              "      <th></th>\n",
              "      <th>Store</th>\n",
              "      <th>Date</th>\n",
              "      <th>Weekly_Sales</th>\n",
              "      <th>Holiday_Flag</th>\n",
              "      <th>Temperature</th>\n",
              "      <th>Fuel_Price</th>\n",
              "      <th>CPI</th>\n",
              "      <th>Unemployment</th>\n",
              "    </tr>\n",
              "  </thead>\n",
              "  <tbody>\n",
              "    <tr>\n",
              "      <th>0</th>\n",
              "      <td>1</td>\n",
              "      <td>05-02-2010</td>\n",
              "      <td>1643690.90</td>\n",
              "      <td>0</td>\n",
              "      <td>42.31</td>\n",
              "      <td>2.572</td>\n",
              "      <td>211.096358</td>\n",
              "      <td>8.106</td>\n",
              "    </tr>\n",
              "    <tr>\n",
              "      <th>1</th>\n",
              "      <td>1</td>\n",
              "      <td>12-02-2010</td>\n",
              "      <td>1641957.44</td>\n",
              "      <td>1</td>\n",
              "      <td>38.51</td>\n",
              "      <td>2.548</td>\n",
              "      <td>211.242170</td>\n",
              "      <td>8.106</td>\n",
              "    </tr>\n",
              "    <tr>\n",
              "      <th>2</th>\n",
              "      <td>1</td>\n",
              "      <td>19-02-2010</td>\n",
              "      <td>1611968.17</td>\n",
              "      <td>0</td>\n",
              "      <td>39.93</td>\n",
              "      <td>2.514</td>\n",
              "      <td>211.289143</td>\n",
              "      <td>8.106</td>\n",
              "    </tr>\n",
              "    <tr>\n",
              "      <th>3</th>\n",
              "      <td>1</td>\n",
              "      <td>26-02-2010</td>\n",
              "      <td>1409727.59</td>\n",
              "      <td>0</td>\n",
              "      <td>46.63</td>\n",
              "      <td>2.561</td>\n",
              "      <td>211.319643</td>\n",
              "      <td>8.106</td>\n",
              "    </tr>\n",
              "    <tr>\n",
              "      <th>4</th>\n",
              "      <td>1</td>\n",
              "      <td>05-03-2010</td>\n",
              "      <td>1554806.68</td>\n",
              "      <td>0</td>\n",
              "      <td>46.50</td>\n",
              "      <td>2.625</td>\n",
              "      <td>211.350143</td>\n",
              "      <td>8.106</td>\n",
              "    </tr>\n",
              "    <tr>\n",
              "      <th>...</th>\n",
              "      <td>...</td>\n",
              "      <td>...</td>\n",
              "      <td>...</td>\n",
              "      <td>...</td>\n",
              "      <td>...</td>\n",
              "      <td>...</td>\n",
              "      <td>...</td>\n",
              "      <td>...</td>\n",
              "    </tr>\n",
              "    <tr>\n",
              "      <th>6430</th>\n",
              "      <td>45</td>\n",
              "      <td>28-09-2012</td>\n",
              "      <td>713173.95</td>\n",
              "      <td>0</td>\n",
              "      <td>64.88</td>\n",
              "      <td>3.997</td>\n",
              "      <td>192.013558</td>\n",
              "      <td>8.684</td>\n",
              "    </tr>\n",
              "    <tr>\n",
              "      <th>6431</th>\n",
              "      <td>45</td>\n",
              "      <td>05-10-2012</td>\n",
              "      <td>733455.07</td>\n",
              "      <td>0</td>\n",
              "      <td>64.89</td>\n",
              "      <td>3.985</td>\n",
              "      <td>192.170412</td>\n",
              "      <td>8.667</td>\n",
              "    </tr>\n",
              "    <tr>\n",
              "      <th>6432</th>\n",
              "      <td>45</td>\n",
              "      <td>12-10-2012</td>\n",
              "      <td>734464.36</td>\n",
              "      <td>0</td>\n",
              "      <td>54.47</td>\n",
              "      <td>4.000</td>\n",
              "      <td>192.327265</td>\n",
              "      <td>8.667</td>\n",
              "    </tr>\n",
              "    <tr>\n",
              "      <th>6433</th>\n",
              "      <td>45</td>\n",
              "      <td>19-10-2012</td>\n",
              "      <td>718125.53</td>\n",
              "      <td>0</td>\n",
              "      <td>56.47</td>\n",
              "      <td>3.969</td>\n",
              "      <td>192.330854</td>\n",
              "      <td>8.667</td>\n",
              "    </tr>\n",
              "    <tr>\n",
              "      <th>6434</th>\n",
              "      <td>45</td>\n",
              "      <td>26-10-2012</td>\n",
              "      <td>760281.43</td>\n",
              "      <td>0</td>\n",
              "      <td>58.85</td>\n",
              "      <td>3.882</td>\n",
              "      <td>192.308899</td>\n",
              "      <td>8.667</td>\n",
              "    </tr>\n",
              "  </tbody>\n",
              "</table>\n",
              "<p>6435 rows × 8 columns</p>\n",
              "</div>\n",
              "      <button class=\"colab-df-convert\" onclick=\"convertToInteractive('df-08bef9f9-3fca-4b7c-9c12-83c4b258208d')\"\n",
              "              title=\"Convert this dataframe to an interactive table.\"\n",
              "              style=\"display:none;\">\n",
              "        \n",
              "  <svg xmlns=\"http://www.w3.org/2000/svg\" height=\"24px\"viewBox=\"0 0 24 24\"\n",
              "       width=\"24px\">\n",
              "    <path d=\"M0 0h24v24H0V0z\" fill=\"none\"/>\n",
              "    <path d=\"M18.56 5.44l.94 2.06.94-2.06 2.06-.94-2.06-.94-.94-2.06-.94 2.06-2.06.94zm-11 1L8.5 8.5l.94-2.06 2.06-.94-2.06-.94L8.5 2.5l-.94 2.06-2.06.94zm10 10l.94 2.06.94-2.06 2.06-.94-2.06-.94-.94-2.06-.94 2.06-2.06.94z\"/><path d=\"M17.41 7.96l-1.37-1.37c-.4-.4-.92-.59-1.43-.59-.52 0-1.04.2-1.43.59L10.3 9.45l-7.72 7.72c-.78.78-.78 2.05 0 2.83L4 21.41c.39.39.9.59 1.41.59.51 0 1.02-.2 1.41-.59l7.78-7.78 2.81-2.81c.8-.78.8-2.07 0-2.86zM5.41 20L4 18.59l7.72-7.72 1.47 1.35L5.41 20z\"/>\n",
              "  </svg>\n",
              "      </button>\n",
              "      \n",
              "  <style>\n",
              "    .colab-df-container {\n",
              "      display:flex;\n",
              "      flex-wrap:wrap;\n",
              "      gap: 12px;\n",
              "    }\n",
              "\n",
              "    .colab-df-convert {\n",
              "      background-color: #E8F0FE;\n",
              "      border: none;\n",
              "      border-radius: 50%;\n",
              "      cursor: pointer;\n",
              "      display: none;\n",
              "      fill: #1967D2;\n",
              "      height: 32px;\n",
              "      padding: 0 0 0 0;\n",
              "      width: 32px;\n",
              "    }\n",
              "\n",
              "    .colab-df-convert:hover {\n",
              "      background-color: #E2EBFA;\n",
              "      box-shadow: 0px 1px 2px rgba(60, 64, 67, 0.3), 0px 1px 3px 1px rgba(60, 64, 67, 0.15);\n",
              "      fill: #174EA6;\n",
              "    }\n",
              "\n",
              "    [theme=dark] .colab-df-convert {\n",
              "      background-color: #3B4455;\n",
              "      fill: #D2E3FC;\n",
              "    }\n",
              "\n",
              "    [theme=dark] .colab-df-convert:hover {\n",
              "      background-color: #434B5C;\n",
              "      box-shadow: 0px 1px 3px 1px rgba(0, 0, 0, 0.15);\n",
              "      filter: drop-shadow(0px 1px 2px rgba(0, 0, 0, 0.3));\n",
              "      fill: #FFFFFF;\n",
              "    }\n",
              "  </style>\n",
              "\n",
              "      <script>\n",
              "        const buttonEl =\n",
              "          document.querySelector('#df-08bef9f9-3fca-4b7c-9c12-83c4b258208d button.colab-df-convert');\n",
              "        buttonEl.style.display =\n",
              "          google.colab.kernel.accessAllowed ? 'block' : 'none';\n",
              "\n",
              "        async function convertToInteractive(key) {\n",
              "          const element = document.querySelector('#df-08bef9f9-3fca-4b7c-9c12-83c4b258208d');\n",
              "          const dataTable =\n",
              "            await google.colab.kernel.invokeFunction('convertToInteractive',\n",
              "                                                     [key], {});\n",
              "          if (!dataTable) return;\n",
              "\n",
              "          const docLinkHtml = 'Like what you see? Visit the ' +\n",
              "            '<a target=\"_blank\" href=https://colab.research.google.com/notebooks/data_table.ipynb>data table notebook</a>'\n",
              "            + ' to learn more about interactive tables.';\n",
              "          element.innerHTML = '';\n",
              "          dataTable['output_type'] = 'display_data';\n",
              "          await google.colab.output.renderOutput(dataTable, element);\n",
              "          const docLink = document.createElement('div');\n",
              "          docLink.innerHTML = docLinkHtml;\n",
              "          element.appendChild(docLink);\n",
              "        }\n",
              "      </script>\n",
              "    </div>\n",
              "  </div>\n",
              "  "
            ]
          },
          "metadata": {},
          "execution_count": 3
        }
      ]
    },
    {
      "cell_type": "markdown",
      "source": [
        "![image.png](data:image/png;base64,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)"
      ],
      "metadata": {
        "id": "oh-Hwwn9qm57"
      }
    },
    {
      "cell_type": "markdown",
      "source": [
        "Criando a coluna ***Holiday_type*** que mostra se é dia normal ou feriado"
      ],
      "metadata": {
        "id": "BKXwYZQf6nPu"
      }
    },
    {
      "cell_type": "code",
      "source": [
        "print(df['Date'].dtypes)"
      ],
      "metadata": {
        "colab": {
          "base_uri": "https://localhost:8080/"
        },
        "id": "T-IHxtrw_BAr",
        "outputId": "61a30866-ff43-460f-a7ea-b5c41b963eec"
      },
      "execution_count": 4,
      "outputs": [
        {
          "output_type": "stream",
          "name": "stdout",
          "text": [
            "object\n"
          ]
        }
      ]
    },
    {
      "cell_type": "code",
      "source": [
        "df.info()"
      ],
      "metadata": {
        "colab": {
          "base_uri": "https://localhost:8080/"
        },
        "id": "dJVoa5i8_3l4",
        "outputId": "95ebfdc7-ff7b-43cb-fbd2-049baaa0a404"
      },
      "execution_count": 5,
      "outputs": [
        {
          "output_type": "stream",
          "name": "stdout",
          "text": [
            "<class 'pandas.core.frame.DataFrame'>\n",
            "RangeIndex: 6435 entries, 0 to 6434\n",
            "Data columns (total 8 columns):\n",
            " #   Column        Non-Null Count  Dtype  \n",
            "---  ------        --------------  -----  \n",
            " 0   Store         6435 non-null   int64  \n",
            " 1   Date          6435 non-null   object \n",
            " 2   Weekly_Sales  6435 non-null   float64\n",
            " 3   Holiday_Flag  6435 non-null   int64  \n",
            " 4   Temperature   6435 non-null   float64\n",
            " 5   Fuel_Price    6435 non-null   float64\n",
            " 6   CPI           6435 non-null   float64\n",
            " 7   Unemployment  6435 non-null   float64\n",
            "dtypes: float64(5), int64(2), object(1)\n",
            "memory usage: 402.3+ KB\n"
          ]
        }
      ]
    },
    {
      "cell_type": "markdown",
      "source": [
        "Verificando se só tem valores 0 e 1 na coluna ***Holiday_Flag***"
      ],
      "metadata": {
        "id": "YhlSRdSkPgvM"
      }
    },
    {
      "cell_type": "code",
      "source": [
        "pd.DataFrame(df['Holiday_Flag'].value_counts())"
      ],
      "metadata": {
        "colab": {
          "base_uri": "https://localhost:8080/",
          "height": 112
        },
        "id": "Ecj6dnnQO_dx",
        "outputId": "1c2ec4f0-c180-4c6c-acdc-829003c9152e"
      },
      "execution_count": 6,
      "outputs": [
        {
          "output_type": "execute_result",
          "data": {
            "text/plain": [
              "   Holiday_Flag\n",
              "0          5985\n",
              "1           450"
            ],
            "text/html": [
              "\n",
              "  <div id=\"df-efd2ab90-d00e-41a4-9468-7c5bc63fb6ea\">\n",
              "    <div class=\"colab-df-container\">\n",
              "      <div>\n",
              "<style scoped>\n",
              "    .dataframe tbody tr th:only-of-type {\n",
              "        vertical-align: middle;\n",
              "    }\n",
              "\n",
              "    .dataframe tbody tr th {\n",
              "        vertical-align: top;\n",
              "    }\n",
              "\n",
              "    .dataframe thead th {\n",
              "        text-align: right;\n",
              "    }\n",
              "</style>\n",
              "<table border=\"1\" class=\"dataframe\">\n",
              "  <thead>\n",
              "    <tr style=\"text-align: right;\">\n",
              "      <th></th>\n",
              "      <th>Holiday_Flag</th>\n",
              "    </tr>\n",
              "  </thead>\n",
              "  <tbody>\n",
              "    <tr>\n",
              "      <th>0</th>\n",
              "      <td>5985</td>\n",
              "    </tr>\n",
              "    <tr>\n",
              "      <th>1</th>\n",
              "      <td>450</td>\n",
              "    </tr>\n",
              "  </tbody>\n",
              "</table>\n",
              "</div>\n",
              "      <button class=\"colab-df-convert\" onclick=\"convertToInteractive('df-efd2ab90-d00e-41a4-9468-7c5bc63fb6ea')\"\n",
              "              title=\"Convert this dataframe to an interactive table.\"\n",
              "              style=\"display:none;\">\n",
              "        \n",
              "  <svg xmlns=\"http://www.w3.org/2000/svg\" height=\"24px\"viewBox=\"0 0 24 24\"\n",
              "       width=\"24px\">\n",
              "    <path d=\"M0 0h24v24H0V0z\" fill=\"none\"/>\n",
              "    <path d=\"M18.56 5.44l.94 2.06.94-2.06 2.06-.94-2.06-.94-.94-2.06-.94 2.06-2.06.94zm-11 1L8.5 8.5l.94-2.06 2.06-.94-2.06-.94L8.5 2.5l-.94 2.06-2.06.94zm10 10l.94 2.06.94-2.06 2.06-.94-2.06-.94-.94-2.06-.94 2.06-2.06.94z\"/><path d=\"M17.41 7.96l-1.37-1.37c-.4-.4-.92-.59-1.43-.59-.52 0-1.04.2-1.43.59L10.3 9.45l-7.72 7.72c-.78.78-.78 2.05 0 2.83L4 21.41c.39.39.9.59 1.41.59.51 0 1.02-.2 1.41-.59l7.78-7.78 2.81-2.81c.8-.78.8-2.07 0-2.86zM5.41 20L4 18.59l7.72-7.72 1.47 1.35L5.41 20z\"/>\n",
              "  </svg>\n",
              "      </button>\n",
              "      \n",
              "  <style>\n",
              "    .colab-df-container {\n",
              "      display:flex;\n",
              "      flex-wrap:wrap;\n",
              "      gap: 12px;\n",
              "    }\n",
              "\n",
              "    .colab-df-convert {\n",
              "      background-color: #E8F0FE;\n",
              "      border: none;\n",
              "      border-radius: 50%;\n",
              "      cursor: pointer;\n",
              "      display: none;\n",
              "      fill: #1967D2;\n",
              "      height: 32px;\n",
              "      padding: 0 0 0 0;\n",
              "      width: 32px;\n",
              "    }\n",
              "\n",
              "    .colab-df-convert:hover {\n",
              "      background-color: #E2EBFA;\n",
              "      box-shadow: 0px 1px 2px rgba(60, 64, 67, 0.3), 0px 1px 3px 1px rgba(60, 64, 67, 0.15);\n",
              "      fill: #174EA6;\n",
              "    }\n",
              "\n",
              "    [theme=dark] .colab-df-convert {\n",
              "      background-color: #3B4455;\n",
              "      fill: #D2E3FC;\n",
              "    }\n",
              "\n",
              "    [theme=dark] .colab-df-convert:hover {\n",
              "      background-color: #434B5C;\n",
              "      box-shadow: 0px 1px 3px 1px rgba(0, 0, 0, 0.15);\n",
              "      filter: drop-shadow(0px 1px 2px rgba(0, 0, 0, 0.3));\n",
              "      fill: #FFFFFF;\n",
              "    }\n",
              "  </style>\n",
              "\n",
              "      <script>\n",
              "        const buttonEl =\n",
              "          document.querySelector('#df-efd2ab90-d00e-41a4-9468-7c5bc63fb6ea button.colab-df-convert');\n",
              "        buttonEl.style.display =\n",
              "          google.colab.kernel.accessAllowed ? 'block' : 'none';\n",
              "\n",
              "        async function convertToInteractive(key) {\n",
              "          const element = document.querySelector('#df-efd2ab90-d00e-41a4-9468-7c5bc63fb6ea');\n",
              "          const dataTable =\n",
              "            await google.colab.kernel.invokeFunction('convertToInteractive',\n",
              "                                                     [key], {});\n",
              "          if (!dataTable) return;\n",
              "\n",
              "          const docLinkHtml = 'Like what you see? Visit the ' +\n",
              "            '<a target=\"_blank\" href=https://colab.research.google.com/notebooks/data_table.ipynb>data table notebook</a>'\n",
              "            + ' to learn more about interactive tables.';\n",
              "          element.innerHTML = '';\n",
              "          dataTable['output_type'] = 'display_data';\n",
              "          await google.colab.output.renderOutput(dataTable, element);\n",
              "          const docLink = document.createElement('div');\n",
              "          docLink.innerHTML = docLinkHtml;\n",
              "          element.appendChild(docLink);\n",
              "        }\n",
              "      </script>\n",
              "    </div>\n",
              "  </div>\n",
              "  "
            ]
          },
          "metadata": {},
          "execution_count": 6
        }
      ]
    },
    {
      "cell_type": "code",
      "source": [
        "len(df)"
      ],
      "metadata": {
        "colab": {
          "base_uri": "https://localhost:8080/"
        },
        "id": "JHbKqF5LP7Rt",
        "outputId": "e5f3016e-5baa-4df1-9572-4871f057c6e0"
      },
      "execution_count": 7,
      "outputs": [
        {
          "output_type": "execute_result",
          "data": {
            "text/plain": [
              "6435"
            ]
          },
          "metadata": {},
          "execution_count": 7
        }
      ]
    },
    {
      "cell_type": "markdown",
      "source": [
        "Criando a lista ***Holiday_Type***"
      ],
      "metadata": {
        "id": "BUp_FMXzQUas"
      }
    },
    {
      "cell_type": "code",
      "source": [
        "#Super_boul\n",
        "#Labour_day\n",
        "#Thanksgiving\n",
        "#Christmans\n",
        "\n",
        "Holiday_Type = list()\t\n",
        "for x,y in enumerate(df['Holiday_Flag']):\n",
        "  if y == 0:\n",
        "    Holiday_Type.append('Regular_day')\n",
        "  elif y ==1:\n",
        "    if df['Date'][x] == '12-02-2010' or df['Date'][x] == '11-02-2011' or df['Date'][x] == '10-02-2012':\n",
        "      Holiday_Type.append('Super_Boul')\n",
        "    if df['Date'][x] == '10-09-2010' or df['Date'][x] == '09-09-2011' or df['Date'][x] == '07-09-2012':\n",
        "      Holiday_Type.append('Labour_Day')\n",
        "    if df['Date'][x] == '26-11-2010' or df['Date'][x] == '25-11-2011' or df['Date'][x] == '23-11-2012':\n",
        "      Holiday_Type.append('Thanksgiving')\n",
        "    if df['Date'][x] == '31-12-2010' or df['Date'][x] == '30-12-2011' or df['Date'][x] == '28-12-2012':\n",
        "      Holiday_Type.append('Christmans')\n",
        "\n",
        "\n"
      ],
      "metadata": {
        "id": "wT4bWO7MdF2B"
      },
      "execution_count": 8,
      "outputs": []
    },
    {
      "cell_type": "markdown",
      "source": [
        "Adicionando a coluna ***Holiday_type*** que diz se é um dia normal ou qual feriado"
      ],
      "metadata": {
        "id": "VHBQFTJmQeIL"
      }
    },
    {
      "cell_type": "code",
      "source": [
        "df['Holiday_type'] = Holiday_Type"
      ],
      "metadata": {
        "id": "8jbdri9NhbqZ"
      },
      "execution_count": 9,
      "outputs": []
    },
    {
      "cell_type": "markdown",
      "source": [
        "criando colunas especificas de cada feriado para ficar mais facil buscar os dados do feriado"
      ],
      "metadata": {
        "id": "0o1Bbq73CQjC"
      }
    },
    {
      "cell_type": "markdown",
      "source": [
        "Arrumar o codigo para ficar menor e mais eficiente\n",
        "\n",
        "FIzemos um retrabalho aqui!!!!!!"
      ],
      "metadata": {
        "id": "WBCIB39Sj6Fn"
      }
    },
    {
      "cell_type": "code",
      "source": [
        "Super_boul = list()\n",
        "Labour_day = list()\n",
        "Thanksgiving = list()\n",
        "Christmans = list()\n",
        "\n",
        "Holiday_Type = list()\t\n",
        "for x,y in enumerate(df['Holiday_Flag']):\n",
        "    if df['Date'][x] == '12-02-2010' or df['Date'][x] == '11-02-2011' or df['Date'][x] == '10-02-2012':\n",
        "      Super_boul.append(1)\n",
        "    else:\n",
        "      Super_boul.append(0)\n",
        "    if df['Date'][x] == '10-09-2010' or df['Date'][x] == '09-09-2011' or df['Date'][x] == '07-09-2012':\n",
        "      Labour_day.append(1)\n",
        "    else:\n",
        "      Labour_day.append(0)\n",
        "    if df['Date'][x] == '26-11-2010' or df['Date'][x] == '25-11-2011' or df['Date'][x] == '23-11-2012':\n",
        "      Thanksgiving.append(1)\n",
        "    else:\n",
        "      Thanksgiving.append(0)\n",
        "    if df['Date'][x] == '31-12-2010' or df['Date'][x] == '30-12-2011' or df['Date'][x] == '28-12-2012':\n",
        "      Christmans.append(1)\n",
        "    else:\n",
        "      Christmans.append(0)"
      ],
      "metadata": {
        "id": "u90mXgKFCOhW"
      },
      "execution_count": 20,
      "outputs": []
    },
    {
      "cell_type": "code",
      "source": [
        "'''Super_boul = list()\n",
        "Labour_day = list()\n",
        "Thanksgiving = list()\n",
        "Christmans = list()\n",
        "\n",
        "Holiday_Type = list()\t\n",
        "for x,y in enumerate(df['Holiday_Flag']):\n",
        "    if df['Date'][x] == '12-02-2010' or df['Date'][x] == '11-02-2011' or df['Date'][x] == '10-02-2012':\n",
        "      Super_boul.append(1)\n",
        "    elif df['Date'][x] == '10-09-2010' or df['Date'][x] == '09-09-2011' or df['Date'][x] == '07-09-2012':\n",
        "      Labour_day.append(1)\n",
        "    elif df['Date'][x] == '26-11-2010' or df['Date'][x] == '25-11-2011' or df['Date'][x] == '23-11-2012':\n",
        "      Thanksgiving.append(1)\n",
        "    elif df['Date'][x] == '31-12-2010' or df['Date'][x] == '30-12-2011' or df['Date'][x] == '28-12-2012':\n",
        "      Christmans.append(1)\n",
        "    else:\n",
        "      Super_boul.append(0)\n",
        "      Labour_day.append(0)\n",
        "      Thanksgiving.append(0)\n",
        "      Christmans.append(0)'''"
      ],
      "metadata": {
        "colab": {
          "base_uri": "https://localhost:8080/",
          "height": 127
        },
        "id": "3zC8n9NXnSz5",
        "outputId": "2102fd90-bc64-450f-9e98-1ee2e57afb20"
      },
      "execution_count": 21,
      "outputs": [
        {
          "output_type": "execute_result",
          "data": {
            "text/plain": [
              "\"Super_boul = list()\\nLabour_day = list()\\nThanksgiving = list()\\nChristmans = list()\\n\\nHoliday_Type = list()\\t\\nfor x,y in enumerate(df['Holiday_Flag']):\\n    if df['Date'][x] == '12-02-2010' or df['Date'][x] == '11-02-2011' or df['Date'][x] == '10-02-2012':\\n      Super_boul.append(1)\\n    elif df['Date'][x] == '10-09-2010' or df['Date'][x] == '09-09-2011' or df['Date'][x] == '07-09-2012':\\n      Labour_day.append(1)\\n    elif df['Date'][x] == '26-11-2010' or df['Date'][x] == '25-11-2011' or df['Date'][x] == '23-11-2012':\\n      Thanksgiving.append(1)\\n    elif df['Date'][x] == '31-12-2010' or df['Date'][x] == '30-12-2011' or df['Date'][x] == '28-12-2012':\\n      Christmans.append(1)\\n    else:\\n      Super_boul.append(0)\\n      Labour_day.append(0)\\n      Thanksgiving.append(0)\\n      Christmans.append(0)\""
            ],
            "application/vnd.google.colaboratory.intrinsic+json": {
              "type": "string"
            }
          },
          "metadata": {},
          "execution_count": 21
        }
      ]
    },
    {
      "cell_type": "code",
      "source": [
        "len(Super_boul)"
      ],
      "metadata": {
        "colab": {
          "base_uri": "https://localhost:8080/"
        },
        "id": "uQQLROFnpK3Q",
        "outputId": "d32fb16c-ab49-4c8d-8acd-f207fff8ea41"
      },
      "execution_count": 22,
      "outputs": [
        {
          "output_type": "execute_result",
          "data": {
            "text/plain": [
              "6435"
            ]
          },
          "metadata": {},
          "execution_count": 22
        }
      ]
    },
    {
      "cell_type": "code",
      "source": [
        "len(Super_boul),len(Labour_day),len(Thanksgiving),len(Christmans)"
      ],
      "metadata": {
        "colab": {
          "base_uri": "https://localhost:8080/"
        },
        "id": "v7MphOqpohSK",
        "outputId": "e5edad8e-4713-4702-c3ca-00c947bd13ee"
      },
      "execution_count": 23,
      "outputs": [
        {
          "output_type": "execute_result",
          "data": {
            "text/plain": [
              "(6435, 6435, 6435, 6435)"
            ]
          },
          "metadata": {},
          "execution_count": 23
        }
      ]
    },
    {
      "cell_type": "code",
      "source": [
        "df['Super_boul'] = Super_boul, Labour_day,Thanksgiving,Christmans\n",
        "df['Labour_day'] = Labour_day\n",
        "df['Thanksgiving'] = Thanksgiving\n",
        "df['Christmans'] = Christmans"
      ],
      "metadata": {
        "id": "M5M4HpnoFUG1",
        "colab": {
          "base_uri": "https://localhost:8080/",
          "height": 378
        },
        "outputId": "b75c2e6c-2447-47fd-aaf4-52ba1c62e038"
      },
      "execution_count": 24,
      "outputs": [
        {
          "output_type": "error",
          "ename": "ValueError",
          "evalue": "ignored",
          "traceback": [
            "\u001b[0;31m---------------------------------------------------------------------------\u001b[0m",
            "\u001b[0;31mValueError\u001b[0m                                Traceback (most recent call last)",
            "\u001b[0;32m<ipython-input-24-02df47005fbe>\u001b[0m in \u001b[0;36m<module>\u001b[0;34m()\u001b[0m\n\u001b[0;32m----> 1\u001b[0;31m \u001b[0mdf\u001b[0m\u001b[0;34m[\u001b[0m\u001b[0;34m[\u001b[0m\u001b[0;34m'Super_boul'\u001b[0m\u001b[0;34m,\u001b[0m\u001b[0;34m'Labour_day'\u001b[0m\u001b[0;34m,\u001b[0m\u001b[0;34m'Thanksgiving'\u001b[0m\u001b[0;34m,\u001b[0m\u001b[0;34m'Christmans'\u001b[0m\u001b[0;34m]\u001b[0m\u001b[0;34m]\u001b[0m \u001b[0;34m=\u001b[0m \u001b[0mSuper_boul\u001b[0m\u001b[0;34m,\u001b[0m \u001b[0mLabour_day\u001b[0m\u001b[0;34m,\u001b[0m\u001b[0mThanksgiving\u001b[0m\u001b[0;34m,\u001b[0m\u001b[0mChristmans\u001b[0m\u001b[0;34m\u001b[0m\u001b[0;34m\u001b[0m\u001b[0m\n\u001b[0m\u001b[1;32m      2\u001b[0m '''df['Labour_day'] = Labour_day\n\u001b[1;32m      3\u001b[0m \u001b[0mdf\u001b[0m\u001b[0;34m[\u001b[0m\u001b[0;34m'Thanksgiving'\u001b[0m\u001b[0;34m]\u001b[0m \u001b[0;34m=\u001b[0m \u001b[0mThanksgiving\u001b[0m\u001b[0;34m\u001b[0m\u001b[0;34m\u001b[0m\u001b[0m\n\u001b[1;32m      4\u001b[0m df['Christmans'] = Christmans'''\n",
            "\u001b[0;32m/usr/local/lib/python3.7/dist-packages/pandas/core/frame.py\u001b[0m in \u001b[0;36m__setitem__\u001b[0;34m(self, key, value)\u001b[0m\n\u001b[1;32m   3598\u001b[0m             \u001b[0mself\u001b[0m\u001b[0;34m.\u001b[0m\u001b[0m_setitem_frame\u001b[0m\u001b[0;34m(\u001b[0m\u001b[0mkey\u001b[0m\u001b[0;34m,\u001b[0m \u001b[0mvalue\u001b[0m\u001b[0;34m)\u001b[0m\u001b[0;34m\u001b[0m\u001b[0;34m\u001b[0m\u001b[0m\n\u001b[1;32m   3599\u001b[0m         \u001b[0;32melif\u001b[0m \u001b[0misinstance\u001b[0m\u001b[0;34m(\u001b[0m\u001b[0mkey\u001b[0m\u001b[0;34m,\u001b[0m \u001b[0;34m(\u001b[0m\u001b[0mSeries\u001b[0m\u001b[0;34m,\u001b[0m \u001b[0mnp\u001b[0m\u001b[0;34m.\u001b[0m\u001b[0mndarray\u001b[0m\u001b[0;34m,\u001b[0m \u001b[0mlist\u001b[0m\u001b[0;34m,\u001b[0m \u001b[0mIndex\u001b[0m\u001b[0;34m)\u001b[0m\u001b[0;34m)\u001b[0m\u001b[0;34m:\u001b[0m\u001b[0;34m\u001b[0m\u001b[0;34m\u001b[0m\u001b[0m\n\u001b[0;32m-> 3600\u001b[0;31m             \u001b[0mself\u001b[0m\u001b[0;34m.\u001b[0m\u001b[0m_setitem_array\u001b[0m\u001b[0;34m(\u001b[0m\u001b[0mkey\u001b[0m\u001b[0;34m,\u001b[0m \u001b[0mvalue\u001b[0m\u001b[0;34m)\u001b[0m\u001b[0;34m\u001b[0m\u001b[0;34m\u001b[0m\u001b[0m\n\u001b[0m\u001b[1;32m   3601\u001b[0m         \u001b[0;32melif\u001b[0m \u001b[0misinstance\u001b[0m\u001b[0;34m(\u001b[0m\u001b[0mvalue\u001b[0m\u001b[0;34m,\u001b[0m \u001b[0mDataFrame\u001b[0m\u001b[0;34m)\u001b[0m\u001b[0;34m:\u001b[0m\u001b[0;34m\u001b[0m\u001b[0;34m\u001b[0m\u001b[0m\n\u001b[1;32m   3602\u001b[0m             \u001b[0mself\u001b[0m\u001b[0;34m.\u001b[0m\u001b[0m_set_item_frame_value\u001b[0m\u001b[0;34m(\u001b[0m\u001b[0mkey\u001b[0m\u001b[0;34m,\u001b[0m \u001b[0mvalue\u001b[0m\u001b[0;34m)\u001b[0m\u001b[0;34m\u001b[0m\u001b[0;34m\u001b[0m\u001b[0m\n",
            "\u001b[0;32m/usr/local/lib/python3.7/dist-packages/pandas/core/frame.py\u001b[0m in \u001b[0;36m_setitem_array\u001b[0;34m(self, key, value)\u001b[0m\n\u001b[1;32m   3651\u001b[0m                 \u001b[0;31m# list of lists\u001b[0m\u001b[0;34m\u001b[0m\u001b[0;34m\u001b[0m\u001b[0;34m\u001b[0m\u001b[0m\n\u001b[1;32m   3652\u001b[0m                 \u001b[0mvalue\u001b[0m \u001b[0;34m=\u001b[0m \u001b[0mDataFrame\u001b[0m\u001b[0;34m(\u001b[0m\u001b[0mvalue\u001b[0m\u001b[0;34m)\u001b[0m\u001b[0;34m.\u001b[0m\u001b[0mvalues\u001b[0m\u001b[0;34m\u001b[0m\u001b[0;34m\u001b[0m\u001b[0m\n\u001b[0;32m-> 3653\u001b[0;31m                 \u001b[0;32mreturn\u001b[0m \u001b[0mself\u001b[0m\u001b[0;34m.\u001b[0m\u001b[0m_setitem_array\u001b[0m\u001b[0;34m(\u001b[0m\u001b[0mkey\u001b[0m\u001b[0;34m,\u001b[0m \u001b[0mvalue\u001b[0m\u001b[0;34m)\u001b[0m\u001b[0;34m\u001b[0m\u001b[0;34m\u001b[0m\u001b[0m\n\u001b[0m\u001b[1;32m   3654\u001b[0m \u001b[0;34m\u001b[0m\u001b[0m\n\u001b[1;32m   3655\u001b[0m             \u001b[0;32melse\u001b[0m\u001b[0;34m:\u001b[0m\u001b[0;34m\u001b[0m\u001b[0;34m\u001b[0m\u001b[0m\n",
            "\u001b[0;32m/usr/local/lib/python3.7/dist-packages/pandas/core/frame.py\u001b[0m in \u001b[0;36m_setitem_array\u001b[0;34m(self, key, value)\u001b[0m\n\u001b[1;32m   3646\u001b[0m \u001b[0;34m\u001b[0m\u001b[0m\n\u001b[1;32m   3647\u001b[0m             \u001b[0;32melif\u001b[0m \u001b[0misinstance\u001b[0m\u001b[0;34m(\u001b[0m\u001b[0mvalue\u001b[0m\u001b[0;34m,\u001b[0m \u001b[0mnp\u001b[0m\u001b[0;34m.\u001b[0m\u001b[0mndarray\u001b[0m\u001b[0;34m)\u001b[0m \u001b[0;32mand\u001b[0m \u001b[0mvalue\u001b[0m\u001b[0;34m.\u001b[0m\u001b[0mndim\u001b[0m \u001b[0;34m==\u001b[0m \u001b[0;36m2\u001b[0m\u001b[0;34m:\u001b[0m\u001b[0;34m\u001b[0m\u001b[0;34m\u001b[0m\u001b[0m\n\u001b[0;32m-> 3648\u001b[0;31m                 \u001b[0mself\u001b[0m\u001b[0;34m.\u001b[0m\u001b[0m_iset_not_inplace\u001b[0m\u001b[0;34m(\u001b[0m\u001b[0mkey\u001b[0m\u001b[0;34m,\u001b[0m \u001b[0mvalue\u001b[0m\u001b[0;34m)\u001b[0m\u001b[0;34m\u001b[0m\u001b[0;34m\u001b[0m\u001b[0m\n\u001b[0m\u001b[1;32m   3649\u001b[0m \u001b[0;34m\u001b[0m\u001b[0m\n\u001b[1;32m   3650\u001b[0m             \u001b[0;32melif\u001b[0m \u001b[0mnp\u001b[0m\u001b[0;34m.\u001b[0m\u001b[0mndim\u001b[0m\u001b[0;34m(\u001b[0m\u001b[0mvalue\u001b[0m\u001b[0;34m)\u001b[0m \u001b[0;34m>\u001b[0m \u001b[0;36m1\u001b[0m\u001b[0;34m:\u001b[0m\u001b[0;34m\u001b[0m\u001b[0;34m\u001b[0m\u001b[0m\n",
            "\u001b[0;32m/usr/local/lib/python3.7/dist-packages/pandas/core/frame.py\u001b[0m in \u001b[0;36m_iset_not_inplace\u001b[0;34m(self, key, value)\u001b[0m\n\u001b[1;32m   3673\u001b[0m         \u001b[0;32mif\u001b[0m \u001b[0mself\u001b[0m\u001b[0;34m.\u001b[0m\u001b[0mcolumns\u001b[0m\u001b[0;34m.\u001b[0m\u001b[0mis_unique\u001b[0m\u001b[0;34m:\u001b[0m\u001b[0;34m\u001b[0m\u001b[0;34m\u001b[0m\u001b[0m\n\u001b[1;32m   3674\u001b[0m             \u001b[0;32mif\u001b[0m \u001b[0mnp\u001b[0m\u001b[0;34m.\u001b[0m\u001b[0mshape\u001b[0m\u001b[0;34m(\u001b[0m\u001b[0mvalue\u001b[0m\u001b[0;34m)\u001b[0m\u001b[0;34m[\u001b[0m\u001b[0;34m-\u001b[0m\u001b[0;36m1\u001b[0m\u001b[0;34m]\u001b[0m \u001b[0;34m!=\u001b[0m \u001b[0mlen\u001b[0m\u001b[0;34m(\u001b[0m\u001b[0mkey\u001b[0m\u001b[0;34m)\u001b[0m\u001b[0;34m:\u001b[0m\u001b[0;34m\u001b[0m\u001b[0;34m\u001b[0m\u001b[0m\n\u001b[0;32m-> 3675\u001b[0;31m                 \u001b[0;32mraise\u001b[0m \u001b[0mValueError\u001b[0m\u001b[0;34m(\u001b[0m\u001b[0;34m\"Columns must be same length as key\"\u001b[0m\u001b[0;34m)\u001b[0m\u001b[0;34m\u001b[0m\u001b[0;34m\u001b[0m\u001b[0m\n\u001b[0m\u001b[1;32m   3676\u001b[0m \u001b[0;34m\u001b[0m\u001b[0m\n\u001b[1;32m   3677\u001b[0m             \u001b[0;32mfor\u001b[0m \u001b[0mi\u001b[0m\u001b[0;34m,\u001b[0m \u001b[0mcol\u001b[0m \u001b[0;32min\u001b[0m \u001b[0menumerate\u001b[0m\u001b[0;34m(\u001b[0m\u001b[0mkey\u001b[0m\u001b[0;34m)\u001b[0m\u001b[0;34m:\u001b[0m\u001b[0;34m\u001b[0m\u001b[0;34m\u001b[0m\u001b[0m\n",
            "\u001b[0;31mValueError\u001b[0m: Columns must be same length as key"
          ]
        }
      ]
    },
    {
      "cell_type": "code",
      "source": [
        "df['Super_boul'].value_counts(),df['Labour_day'].value_counts(),df['Thanksgiving'].value_counts(),df['Christmans'].value_counts()"
      ],
      "metadata": {
        "id": "HkUJpE8xGoyN"
      },
      "execution_count": null,
      "outputs": []
    },
    {
      "cell_type": "code",
      "source": [
        "df[df['Super_boul']==1]"
      ],
      "metadata": {
        "id": "Exp1hpLFGby4"
      },
      "execution_count": null,
      "outputs": []
    },
    {
      "cell_type": "code",
      "source": [
        "len(Thanksgiving)"
      ],
      "metadata": {
        "id": "jBybh5aHE5ZX"
      },
      "execution_count": null,
      "outputs": []
    },
    {
      "cell_type": "code",
      "source": [
        "df.head(10)"
      ],
      "metadata": {
        "id": "JMLksp6vdF5i"
      },
      "execution_count": null,
      "outputs": []
    },
    {
      "cell_type": "markdown",
      "source": [
        "Fazendo a correlação"
      ],
      "metadata": {
        "id": "eVqSrWWfRCN2"
      }
    },
    {
      "cell_type": "markdown",
      "source": [
        "pqp, sfd, tmnc outro dataframe sem correlaçao ..|..\n"
      ],
      "metadata": {
        "id": "XDpJX2BJRcti"
      }
    },
    {
      "cell_type": "code",
      "source": [
        "sns.pairplot(df)\n",
        "df.corr()"
      ],
      "metadata": {
        "id": "-Hng0rOhQvcI"
      },
      "execution_count": null,
      "outputs": []
    },
    {
      "cell_type": "code",
      "source": [
        "df.corr()['Weekly_Sales']"
      ],
      "metadata": {
        "id": "yLGh9GMgSNcr"
      },
      "execution_count": null,
      "outputs": []
    },
    {
      "cell_type": "markdown",
      "source": [
        "Colocando em ordem decrescente usando a coluna ***Weekly_Sales***"
      ],
      "metadata": {
        "id": "TCzU-9XKVf3m"
      }
    },
    {
      "cell_type": "code",
      "source": [
        "df"
      ],
      "metadata": {
        "colab": {
          "base_uri": "https://localhost:8080/",
          "height": 423
        },
        "id": "84jlS474r4dJ",
        "outputId": "0c590e31-7bf0-414e-c2f3-7962754b1064"
      },
      "execution_count": 11,
      "outputs": [
        {
          "output_type": "execute_result",
          "data": {
            "text/plain": [
              "      Store        Date  Weekly_Sales  Holiday_Flag  Temperature  Fuel_Price  \\\n",
              "0         1  05-02-2010    1643690.90             0        42.31       2.572   \n",
              "1         1  12-02-2010    1641957.44             1        38.51       2.548   \n",
              "2         1  19-02-2010    1611968.17             0        39.93       2.514   \n",
              "3         1  26-02-2010    1409727.59             0        46.63       2.561   \n",
              "4         1  05-03-2010    1554806.68             0        46.50       2.625   \n",
              "...     ...         ...           ...           ...          ...         ...   \n",
              "6430     45  28-09-2012     713173.95             0        64.88       3.997   \n",
              "6431     45  05-10-2012     733455.07             0        64.89       3.985   \n",
              "6432     45  12-10-2012     734464.36             0        54.47       4.000   \n",
              "6433     45  19-10-2012     718125.53             0        56.47       3.969   \n",
              "6434     45  26-10-2012     760281.43             0        58.85       3.882   \n",
              "\n",
              "             CPI  Unemployment Holiday_type  \n",
              "0     211.096358         8.106  Regular_day  \n",
              "1     211.242170         8.106   Super_Boul  \n",
              "2     211.289143         8.106  Regular_day  \n",
              "3     211.319643         8.106  Regular_day  \n",
              "4     211.350143         8.106  Regular_day  \n",
              "...          ...           ...          ...  \n",
              "6430  192.013558         8.684  Regular_day  \n",
              "6431  192.170412         8.667  Regular_day  \n",
              "6432  192.327265         8.667  Regular_day  \n",
              "6433  192.330854         8.667  Regular_day  \n",
              "6434  192.308899         8.667  Regular_day  \n",
              "\n",
              "[6435 rows x 9 columns]"
            ],
            "text/html": [
              "\n",
              "  <div id=\"df-f0567dc6-d868-4c00-bb34-fde52326bbfb\">\n",
              "    <div class=\"colab-df-container\">\n",
              "      <div>\n",
              "<style scoped>\n",
              "    .dataframe tbody tr th:only-of-type {\n",
              "        vertical-align: middle;\n",
              "    }\n",
              "\n",
              "    .dataframe tbody tr th {\n",
              "        vertical-align: top;\n",
              "    }\n",
              "\n",
              "    .dataframe thead th {\n",
              "        text-align: right;\n",
              "    }\n",
              "</style>\n",
              "<table border=\"1\" class=\"dataframe\">\n",
              "  <thead>\n",
              "    <tr style=\"text-align: right;\">\n",
              "      <th></th>\n",
              "      <th>Store</th>\n",
              "      <th>Date</th>\n",
              "      <th>Weekly_Sales</th>\n",
              "      <th>Holiday_Flag</th>\n",
              "      <th>Temperature</th>\n",
              "      <th>Fuel_Price</th>\n",
              "      <th>CPI</th>\n",
              "      <th>Unemployment</th>\n",
              "      <th>Holiday_type</th>\n",
              "    </tr>\n",
              "  </thead>\n",
              "  <tbody>\n",
              "    <tr>\n",
              "      <th>0</th>\n",
              "      <td>1</td>\n",
              "      <td>05-02-2010</td>\n",
              "      <td>1643690.90</td>\n",
              "      <td>0</td>\n",
              "      <td>42.31</td>\n",
              "      <td>2.572</td>\n",
              "      <td>211.096358</td>\n",
              "      <td>8.106</td>\n",
              "      <td>Regular_day</td>\n",
              "    </tr>\n",
              "    <tr>\n",
              "      <th>1</th>\n",
              "      <td>1</td>\n",
              "      <td>12-02-2010</td>\n",
              "      <td>1641957.44</td>\n",
              "      <td>1</td>\n",
              "      <td>38.51</td>\n",
              "      <td>2.548</td>\n",
              "      <td>211.242170</td>\n",
              "      <td>8.106</td>\n",
              "      <td>Super_Boul</td>\n",
              "    </tr>\n",
              "    <tr>\n",
              "      <th>2</th>\n",
              "      <td>1</td>\n",
              "      <td>19-02-2010</td>\n",
              "      <td>1611968.17</td>\n",
              "      <td>0</td>\n",
              "      <td>39.93</td>\n",
              "      <td>2.514</td>\n",
              "      <td>211.289143</td>\n",
              "      <td>8.106</td>\n",
              "      <td>Regular_day</td>\n",
              "    </tr>\n",
              "    <tr>\n",
              "      <th>3</th>\n",
              "      <td>1</td>\n",
              "      <td>26-02-2010</td>\n",
              "      <td>1409727.59</td>\n",
              "      <td>0</td>\n",
              "      <td>46.63</td>\n",
              "      <td>2.561</td>\n",
              "      <td>211.319643</td>\n",
              "      <td>8.106</td>\n",
              "      <td>Regular_day</td>\n",
              "    </tr>\n",
              "    <tr>\n",
              "      <th>4</th>\n",
              "      <td>1</td>\n",
              "      <td>05-03-2010</td>\n",
              "      <td>1554806.68</td>\n",
              "      <td>0</td>\n",
              "      <td>46.50</td>\n",
              "      <td>2.625</td>\n",
              "      <td>211.350143</td>\n",
              "      <td>8.106</td>\n",
              "      <td>Regular_day</td>\n",
              "    </tr>\n",
              "    <tr>\n",
              "      <th>...</th>\n",
              "      <td>...</td>\n",
              "      <td>...</td>\n",
              "      <td>...</td>\n",
              "      <td>...</td>\n",
              "      <td>...</td>\n",
              "      <td>...</td>\n",
              "      <td>...</td>\n",
              "      <td>...</td>\n",
              "      <td>...</td>\n",
              "    </tr>\n",
              "    <tr>\n",
              "      <th>6430</th>\n",
              "      <td>45</td>\n",
              "      <td>28-09-2012</td>\n",
              "      <td>713173.95</td>\n",
              "      <td>0</td>\n",
              "      <td>64.88</td>\n",
              "      <td>3.997</td>\n",
              "      <td>192.013558</td>\n",
              "      <td>8.684</td>\n",
              "      <td>Regular_day</td>\n",
              "    </tr>\n",
              "    <tr>\n",
              "      <th>6431</th>\n",
              "      <td>45</td>\n",
              "      <td>05-10-2012</td>\n",
              "      <td>733455.07</td>\n",
              "      <td>0</td>\n",
              "      <td>64.89</td>\n",
              "      <td>3.985</td>\n",
              "      <td>192.170412</td>\n",
              "      <td>8.667</td>\n",
              "      <td>Regular_day</td>\n",
              "    </tr>\n",
              "    <tr>\n",
              "      <th>6432</th>\n",
              "      <td>45</td>\n",
              "      <td>12-10-2012</td>\n",
              "      <td>734464.36</td>\n",
              "      <td>0</td>\n",
              "      <td>54.47</td>\n",
              "      <td>4.000</td>\n",
              "      <td>192.327265</td>\n",
              "      <td>8.667</td>\n",
              "      <td>Regular_day</td>\n",
              "    </tr>\n",
              "    <tr>\n",
              "      <th>6433</th>\n",
              "      <td>45</td>\n",
              "      <td>19-10-2012</td>\n",
              "      <td>718125.53</td>\n",
              "      <td>0</td>\n",
              "      <td>56.47</td>\n",
              "      <td>3.969</td>\n",
              "      <td>192.330854</td>\n",
              "      <td>8.667</td>\n",
              "      <td>Regular_day</td>\n",
              "    </tr>\n",
              "    <tr>\n",
              "      <th>6434</th>\n",
              "      <td>45</td>\n",
              "      <td>26-10-2012</td>\n",
              "      <td>760281.43</td>\n",
              "      <td>0</td>\n",
              "      <td>58.85</td>\n",
              "      <td>3.882</td>\n",
              "      <td>192.308899</td>\n",
              "      <td>8.667</td>\n",
              "      <td>Regular_day</td>\n",
              "    </tr>\n",
              "  </tbody>\n",
              "</table>\n",
              "<p>6435 rows × 9 columns</p>\n",
              "</div>\n",
              "      <button class=\"colab-df-convert\" onclick=\"convertToInteractive('df-f0567dc6-d868-4c00-bb34-fde52326bbfb')\"\n",
              "              title=\"Convert this dataframe to an interactive table.\"\n",
              "              style=\"display:none;\">\n",
              "        \n",
              "  <svg xmlns=\"http://www.w3.org/2000/svg\" height=\"24px\"viewBox=\"0 0 24 24\"\n",
              "       width=\"24px\">\n",
              "    <path d=\"M0 0h24v24H0V0z\" fill=\"none\"/>\n",
              "    <path d=\"M18.56 5.44l.94 2.06.94-2.06 2.06-.94-2.06-.94-.94-2.06-.94 2.06-2.06.94zm-11 1L8.5 8.5l.94-2.06 2.06-.94-2.06-.94L8.5 2.5l-.94 2.06-2.06.94zm10 10l.94 2.06.94-2.06 2.06-.94-2.06-.94-.94-2.06-.94 2.06-2.06.94z\"/><path d=\"M17.41 7.96l-1.37-1.37c-.4-.4-.92-.59-1.43-.59-.52 0-1.04.2-1.43.59L10.3 9.45l-7.72 7.72c-.78.78-.78 2.05 0 2.83L4 21.41c.39.39.9.59 1.41.59.51 0 1.02-.2 1.41-.59l7.78-7.78 2.81-2.81c.8-.78.8-2.07 0-2.86zM5.41 20L4 18.59l7.72-7.72 1.47 1.35L5.41 20z\"/>\n",
              "  </svg>\n",
              "      </button>\n",
              "      \n",
              "  <style>\n",
              "    .colab-df-container {\n",
              "      display:flex;\n",
              "      flex-wrap:wrap;\n",
              "      gap: 12px;\n",
              "    }\n",
              "\n",
              "    .colab-df-convert {\n",
              "      background-color: #E8F0FE;\n",
              "      border: none;\n",
              "      border-radius: 50%;\n",
              "      cursor: pointer;\n",
              "      display: none;\n",
              "      fill: #1967D2;\n",
              "      height: 32px;\n",
              "      padding: 0 0 0 0;\n",
              "      width: 32px;\n",
              "    }\n",
              "\n",
              "    .colab-df-convert:hover {\n",
              "      background-color: #E2EBFA;\n",
              "      box-shadow: 0px 1px 2px rgba(60, 64, 67, 0.3), 0px 1px 3px 1px rgba(60, 64, 67, 0.15);\n",
              "      fill: #174EA6;\n",
              "    }\n",
              "\n",
              "    [theme=dark] .colab-df-convert {\n",
              "      background-color: #3B4455;\n",
              "      fill: #D2E3FC;\n",
              "    }\n",
              "\n",
              "    [theme=dark] .colab-df-convert:hover {\n",
              "      background-color: #434B5C;\n",
              "      box-shadow: 0px 1px 3px 1px rgba(0, 0, 0, 0.15);\n",
              "      filter: drop-shadow(0px 1px 2px rgba(0, 0, 0, 0.3));\n",
              "      fill: #FFFFFF;\n",
              "    }\n",
              "  </style>\n",
              "\n",
              "      <script>\n",
              "        const buttonEl =\n",
              "          document.querySelector('#df-f0567dc6-d868-4c00-bb34-fde52326bbfb button.colab-df-convert');\n",
              "        buttonEl.style.display =\n",
              "          google.colab.kernel.accessAllowed ? 'block' : 'none';\n",
              "\n",
              "        async function convertToInteractive(key) {\n",
              "          const element = document.querySelector('#df-f0567dc6-d868-4c00-bb34-fde52326bbfb');\n",
              "          const dataTable =\n",
              "            await google.colab.kernel.invokeFunction('convertToInteractive',\n",
              "                                                     [key], {});\n",
              "          if (!dataTable) return;\n",
              "\n",
              "          const docLinkHtml = 'Like what you see? Visit the ' +\n",
              "            '<a target=\"_blank\" href=https://colab.research.google.com/notebooks/data_table.ipynb>data table notebook</a>'\n",
              "            + ' to learn more about interactive tables.';\n",
              "          element.innerHTML = '';\n",
              "          dataTable['output_type'] = 'display_data';\n",
              "          await google.colab.output.renderOutput(dataTable, element);\n",
              "          const docLink = document.createElement('div');\n",
              "          docLink.innerHTML = docLinkHtml;\n",
              "          element.appendChild(docLink);\n",
              "        }\n",
              "      </script>\n",
              "    </div>\n",
              "  </div>\n",
              "  "
            ]
          },
          "metadata": {},
          "execution_count": 11
        }
      ]
    },
    {
      "cell_type": "code",
      "source": [
        "df_Thanksgiving = df[df['Holiday_type'] == 'Thanksgiving']"
      ],
      "metadata": {
        "id": "jhwYvWVUqjiz"
      },
      "execution_count": 14,
      "outputs": []
    },
    {
      "cell_type": "code",
      "source": [
        "df_Thanksgiving.sort_values(by=['Weekly_Sales'],ascending=False)"
      ],
      "metadata": {
        "colab": {
          "base_uri": "https://localhost:8080/",
          "height": 423
        },
        "id": "i5o4sbWCsZMz",
        "outputId": "a2acb12c-f394-4068-b17f-3e531cf81d46"
      },
      "execution_count": 15,
      "outputs": [
        {
          "output_type": "execute_result",
          "data": {
            "text/plain": [
              "      Store        Date  Weekly_Sales  Holiday_Flag  Temperature  Fuel_Price  \\\n",
              "523       4  25-11-2011    3004702.33             1        47.96       3.225   \n",
              "1381     10  25-11-2011    2950198.64             1        60.68       3.760   \n",
              "1329     10  26-11-2010    2939946.38             1        55.33       3.162   \n",
              "1901     14  26-11-2010    2921709.71             1        46.15       3.039   \n",
              "2811     20  25-11-2011    2906233.25             1        46.38       3.492   \n",
              "...     ...         ...           ...           ...          ...         ...   \n",
              "5099     36  25-11-2011     332811.55             1        66.41       3.181   \n",
              "6243     44  25-11-2011     309129.01             1        38.89       3.445   \n",
              "6191     44  26-11-2010     307646.50             1        28.22       2.830   \n",
              "4670     33  25-11-2011     255996.47             1        62.35       3.760   \n",
              "4618     33  26-11-2010     240044.57             1        56.87       3.162   \n",
              "\n",
              "             CPI  Unemployment  Holiday_type  \n",
              "523   129.836400         5.143  Thanksgiving  \n",
              "1381  129.836400         7.874  Thanksgiving  \n",
              "1329  126.669267         9.003  Thanksgiving  \n",
              "1901  182.783277         8.724  Thanksgiving  \n",
              "2811  211.412076         7.082  Thanksgiving  \n",
              "...          ...           ...           ...  \n",
              "5099  217.181253         7.716  Thanksgiving  \n",
              "6243  129.836400         6.078  Thanksgiving  \n",
              "6191  126.669267         7.610  Thanksgiving  \n",
              "4670  129.836400         8.010  Thanksgiving  \n",
              "4618  126.669267         9.265  Thanksgiving  \n",
              "\n",
              "[90 rows x 9 columns]"
            ],
            "text/html": [
              "\n",
              "  <div id=\"df-7b797819-66f4-4133-9288-ab0f4b69e2a0\">\n",
              "    <div class=\"colab-df-container\">\n",
              "      <div>\n",
              "<style scoped>\n",
              "    .dataframe tbody tr th:only-of-type {\n",
              "        vertical-align: middle;\n",
              "    }\n",
              "\n",
              "    .dataframe tbody tr th {\n",
              "        vertical-align: top;\n",
              "    }\n",
              "\n",
              "    .dataframe thead th {\n",
              "        text-align: right;\n",
              "    }\n",
              "</style>\n",
              "<table border=\"1\" class=\"dataframe\">\n",
              "  <thead>\n",
              "    <tr style=\"text-align: right;\">\n",
              "      <th></th>\n",
              "      <th>Store</th>\n",
              "      <th>Date</th>\n",
              "      <th>Weekly_Sales</th>\n",
              "      <th>Holiday_Flag</th>\n",
              "      <th>Temperature</th>\n",
              "      <th>Fuel_Price</th>\n",
              "      <th>CPI</th>\n",
              "      <th>Unemployment</th>\n",
              "      <th>Holiday_type</th>\n",
              "    </tr>\n",
              "  </thead>\n",
              "  <tbody>\n",
              "    <tr>\n",
              "      <th>523</th>\n",
              "      <td>4</td>\n",
              "      <td>25-11-2011</td>\n",
              "      <td>3004702.33</td>\n",
              "      <td>1</td>\n",
              "      <td>47.96</td>\n",
              "      <td>3.225</td>\n",
              "      <td>129.836400</td>\n",
              "      <td>5.143</td>\n",
              "      <td>Thanksgiving</td>\n",
              "    </tr>\n",
              "    <tr>\n",
              "      <th>1381</th>\n",
              "      <td>10</td>\n",
              "      <td>25-11-2011</td>\n",
              "      <td>2950198.64</td>\n",
              "      <td>1</td>\n",
              "      <td>60.68</td>\n",
              "      <td>3.760</td>\n",
              "      <td>129.836400</td>\n",
              "      <td>7.874</td>\n",
              "      <td>Thanksgiving</td>\n",
              "    </tr>\n",
              "    <tr>\n",
              "      <th>1329</th>\n",
              "      <td>10</td>\n",
              "      <td>26-11-2010</td>\n",
              "      <td>2939946.38</td>\n",
              "      <td>1</td>\n",
              "      <td>55.33</td>\n",
              "      <td>3.162</td>\n",
              "      <td>126.669267</td>\n",
              "      <td>9.003</td>\n",
              "      <td>Thanksgiving</td>\n",
              "    </tr>\n",
              "    <tr>\n",
              "      <th>1901</th>\n",
              "      <td>14</td>\n",
              "      <td>26-11-2010</td>\n",
              "      <td>2921709.71</td>\n",
              "      <td>1</td>\n",
              "      <td>46.15</td>\n",
              "      <td>3.039</td>\n",
              "      <td>182.783277</td>\n",
              "      <td>8.724</td>\n",
              "      <td>Thanksgiving</td>\n",
              "    </tr>\n",
              "    <tr>\n",
              "      <th>2811</th>\n",
              "      <td>20</td>\n",
              "      <td>25-11-2011</td>\n",
              "      <td>2906233.25</td>\n",
              "      <td>1</td>\n",
              "      <td>46.38</td>\n",
              "      <td>3.492</td>\n",
              "      <td>211.412076</td>\n",
              "      <td>7.082</td>\n",
              "      <td>Thanksgiving</td>\n",
              "    </tr>\n",
              "    <tr>\n",
              "      <th>...</th>\n",
              "      <td>...</td>\n",
              "      <td>...</td>\n",
              "      <td>...</td>\n",
              "      <td>...</td>\n",
              "      <td>...</td>\n",
              "      <td>...</td>\n",
              "      <td>...</td>\n",
              "      <td>...</td>\n",
              "      <td>...</td>\n",
              "    </tr>\n",
              "    <tr>\n",
              "      <th>5099</th>\n",
              "      <td>36</td>\n",
              "      <td>25-11-2011</td>\n",
              "      <td>332811.55</td>\n",
              "      <td>1</td>\n",
              "      <td>66.41</td>\n",
              "      <td>3.181</td>\n",
              "      <td>217.181253</td>\n",
              "      <td>7.716</td>\n",
              "      <td>Thanksgiving</td>\n",
              "    </tr>\n",
              "    <tr>\n",
              "      <th>6243</th>\n",
              "      <td>44</td>\n",
              "      <td>25-11-2011</td>\n",
              "      <td>309129.01</td>\n",
              "      <td>1</td>\n",
              "      <td>38.89</td>\n",
              "      <td>3.445</td>\n",
              "      <td>129.836400</td>\n",
              "      <td>6.078</td>\n",
              "      <td>Thanksgiving</td>\n",
              "    </tr>\n",
              "    <tr>\n",
              "      <th>6191</th>\n",
              "      <td>44</td>\n",
              "      <td>26-11-2010</td>\n",
              "      <td>307646.50</td>\n",
              "      <td>1</td>\n",
              "      <td>28.22</td>\n",
              "      <td>2.830</td>\n",
              "      <td>126.669267</td>\n",
              "      <td>7.610</td>\n",
              "      <td>Thanksgiving</td>\n",
              "    </tr>\n",
              "    <tr>\n",
              "      <th>4670</th>\n",
              "      <td>33</td>\n",
              "      <td>25-11-2011</td>\n",
              "      <td>255996.47</td>\n",
              "      <td>1</td>\n",
              "      <td>62.35</td>\n",
              "      <td>3.760</td>\n",
              "      <td>129.836400</td>\n",
              "      <td>8.010</td>\n",
              "      <td>Thanksgiving</td>\n",
              "    </tr>\n",
              "    <tr>\n",
              "      <th>4618</th>\n",
              "      <td>33</td>\n",
              "      <td>26-11-2010</td>\n",
              "      <td>240044.57</td>\n",
              "      <td>1</td>\n",
              "      <td>56.87</td>\n",
              "      <td>3.162</td>\n",
              "      <td>126.669267</td>\n",
              "      <td>9.265</td>\n",
              "      <td>Thanksgiving</td>\n",
              "    </tr>\n",
              "  </tbody>\n",
              "</table>\n",
              "<p>90 rows × 9 columns</p>\n",
              "</div>\n",
              "      <button class=\"colab-df-convert\" onclick=\"convertToInteractive('df-7b797819-66f4-4133-9288-ab0f4b69e2a0')\"\n",
              "              title=\"Convert this dataframe to an interactive table.\"\n",
              "              style=\"display:none;\">\n",
              "        \n",
              "  <svg xmlns=\"http://www.w3.org/2000/svg\" height=\"24px\"viewBox=\"0 0 24 24\"\n",
              "       width=\"24px\">\n",
              "    <path d=\"M0 0h24v24H0V0z\" fill=\"none\"/>\n",
              "    <path d=\"M18.56 5.44l.94 2.06.94-2.06 2.06-.94-2.06-.94-.94-2.06-.94 2.06-2.06.94zm-11 1L8.5 8.5l.94-2.06 2.06-.94-2.06-.94L8.5 2.5l-.94 2.06-2.06.94zm10 10l.94 2.06.94-2.06 2.06-.94-2.06-.94-.94-2.06-.94 2.06-2.06.94z\"/><path d=\"M17.41 7.96l-1.37-1.37c-.4-.4-.92-.59-1.43-.59-.52 0-1.04.2-1.43.59L10.3 9.45l-7.72 7.72c-.78.78-.78 2.05 0 2.83L4 21.41c.39.39.9.59 1.41.59.51 0 1.02-.2 1.41-.59l7.78-7.78 2.81-2.81c.8-.78.8-2.07 0-2.86zM5.41 20L4 18.59l7.72-7.72 1.47 1.35L5.41 20z\"/>\n",
              "  </svg>\n",
              "      </button>\n",
              "      \n",
              "  <style>\n",
              "    .colab-df-container {\n",
              "      display:flex;\n",
              "      flex-wrap:wrap;\n",
              "      gap: 12px;\n",
              "    }\n",
              "\n",
              "    .colab-df-convert {\n",
              "      background-color: #E8F0FE;\n",
              "      border: none;\n",
              "      border-radius: 50%;\n",
              "      cursor: pointer;\n",
              "      display: none;\n",
              "      fill: #1967D2;\n",
              "      height: 32px;\n",
              "      padding: 0 0 0 0;\n",
              "      width: 32px;\n",
              "    }\n",
              "\n",
              "    .colab-df-convert:hover {\n",
              "      background-color: #E2EBFA;\n",
              "      box-shadow: 0px 1px 2px rgba(60, 64, 67, 0.3), 0px 1px 3px 1px rgba(60, 64, 67, 0.15);\n",
              "      fill: #174EA6;\n",
              "    }\n",
              "\n",
              "    [theme=dark] .colab-df-convert {\n",
              "      background-color: #3B4455;\n",
              "      fill: #D2E3FC;\n",
              "    }\n",
              "\n",
              "    [theme=dark] .colab-df-convert:hover {\n",
              "      background-color: #434B5C;\n",
              "      box-shadow: 0px 1px 3px 1px rgba(0, 0, 0, 0.15);\n",
              "      filter: drop-shadow(0px 1px 2px rgba(0, 0, 0, 0.3));\n",
              "      fill: #FFFFFF;\n",
              "    }\n",
              "  </style>\n",
              "\n",
              "      <script>\n",
              "        const buttonEl =\n",
              "          document.querySelector('#df-7b797819-66f4-4133-9288-ab0f4b69e2a0 button.colab-df-convert');\n",
              "        buttonEl.style.display =\n",
              "          google.colab.kernel.accessAllowed ? 'block' : 'none';\n",
              "\n",
              "        async function convertToInteractive(key) {\n",
              "          const element = document.querySelector('#df-7b797819-66f4-4133-9288-ab0f4b69e2a0');\n",
              "          const dataTable =\n",
              "            await google.colab.kernel.invokeFunction('convertToInteractive',\n",
              "                                                     [key], {});\n",
              "          if (!dataTable) return;\n",
              "\n",
              "          const docLinkHtml = 'Like what you see? Visit the ' +\n",
              "            '<a target=\"_blank\" href=https://colab.research.google.com/notebooks/data_table.ipynb>data table notebook</a>'\n",
              "            + ' to learn more about interactive tables.';\n",
              "          element.innerHTML = '';\n",
              "          dataTable['output_type'] = 'display_data';\n",
              "          await google.colab.output.renderOutput(dataTable, element);\n",
              "          const docLink = document.createElement('div');\n",
              "          docLink.innerHTML = docLinkHtml;\n",
              "          element.appendChild(docLink);\n",
              "        }\n",
              "      </script>\n",
              "    </div>\n",
              "  </div>\n",
              "  "
            ]
          },
          "metadata": {},
          "execution_count": 15
        }
      ]
    },
    {
      "cell_type": "code",
      "source": [
        "df.sort_values(by=['Weekly_Sales'],ascending=False).head(30)"
      ],
      "metadata": {
        "id": "KC1yvVGDVPv7"
      },
      "execution_count": null,
      "outputs": []
    },
    {
      "cell_type": "markdown",
      "source": [
        "Grafico de barras com as comparações de vendas em feriados com dias normais"
      ],
      "metadata": {
        "id": "05_Ewxj0KIaf"
      }
    },
    {
      "cell_type": "code",
      "source": [
        "sns.barplot(x='Holiday_Flag', y='Weekly_Sales', data=df)"
      ],
      "metadata": {
        "id": "quXiNLbOIXjc"
      },
      "execution_count": null,
      "outputs": []
    },
    {
      "cell_type": "markdown",
      "source": [
        "Grafico das vendas por feriados"
      ],
      "metadata": {
        "id": "B1BYOLcJYGI-"
      }
    },
    {
      "cell_type": "markdown",
      "source": [
        ""
      ],
      "metadata": {
        "id": "XHiYFOHkLQu_"
      }
    },
    {
      "cell_type": "code",
      "source": [
        "df.groupby('Store')['Weekly_Sales'].sum()"
      ],
      "metadata": {
        "id": "id97cmNmLP8G"
      },
      "execution_count": null,
      "outputs": []
    },
    {
      "cell_type": "markdown",
      "source": [
        "Verificando qual loja teve mais vendas, fazer somatorio das vendas de cada loja\n",
        "\n",
        "fazer soma separadas dos feriados e dos dias comuns\n",
        "\n",
        "mostrar em float"
      ],
      "metadata": {
        "id": "T-UPcxNRRwZG"
      }
    },
    {
      "cell_type": "code",
      "source": [
        "df_lojas = df.groupby('Store').agg({'Weekly_Sales':'sum','Temperature':'mean','Fuel_Price':'mean', 'CPI':'mean','Unemployment':'mean'})\n",
        "df_lojas"
      ],
      "metadata": {
        "id": "1M1gMcK0TuY8",
        "colab": {
          "base_uri": "https://localhost:8080/",
          "height": 654
        },
        "outputId": "bf41639b-2ac1-4abd-e878-6f1fdb3c3069"
      },
      "execution_count": 16,
      "outputs": [
        {
          "output_type": "execute_result",
          "data": {
            "text/plain": [
              "       Weekly_Sales  Temperature  Fuel_Price         CPI  Unemployment\n",
              "Store                                                                 \n",
              "1      2.224028e+08    68.306783    3.219699  215.996892      7.610420\n",
              "2      2.753824e+08    68.216364    3.219699  215.646311      7.623846\n",
              "3      5.758674e+07    71.434196    3.219699  219.391531      7.176986\n",
              "4      2.995440e+08    62.253357    3.216972  128.679669      5.964692\n",
              "5      4.547569e+07    69.410140    3.219699  216.565581      6.295406\n",
              "6      2.237561e+08    69.700000    3.219699  217.553197      6.606902\n",
              "7      8.159828e+07    39.720280    3.241559  193.664243      8.585734\n",
              "8      1.299512e+08    62.513986    3.219699  219.439026      6.091846\n",
              "9      7.778922e+07    67.775175    3.219699  219.626689      6.099881\n",
              "10     2.716177e+08    72.241189    3.575923  128.679669      8.362965\n",
              "11     1.939628e+08    72.480769    3.219699  219.391531      7.176986\n",
              "12     1.442872e+08    70.262797    3.606420  128.679669     13.116483\n",
              "13     2.865177e+08    53.697133    3.286147  128.679669      7.001825\n",
              "14     2.889999e+08    57.790979    3.417608  186.285678      8.648748\n",
              "15     8.913368e+07    51.833846    3.578294  135.092607      7.996252\n",
              "16     7.425243e+07    45.030070    3.241559  193.664243      6.477993\n",
              "17     1.277821e+08    46.387203    3.286147  128.679669      6.549406\n",
              "18     1.551147e+08    53.371259    3.441741  135.092607      8.838301\n",
              "19     2.066349e+08    52.295035    3.578294  135.092607      7.996252\n",
              "20     3.013978e+08    55.451399    3.417608  209.038131      7.371413\n",
              "21     1.081179e+08    68.847622    3.219699  215.646311      7.623846\n",
              "22     1.470756e+08    54.897133    3.441741  139.011284      8.069371\n",
              "23     1.987506e+08    48.805105    3.441741  135.092607      4.796014\n",
              "24     1.940160e+08    54.030000    3.578294  135.092607      8.447014\n",
              "25     1.010612e+08    52.138392    3.417608  209.038131      7.371413\n",
              "26     1.434164e+08    43.658252    3.441741  135.092607      7.872070\n",
              "27     2.538559e+08    57.311119    3.578294  139.011284      8.001748\n",
              "28     1.892637e+08    70.262797    3.606420  128.679669     13.116483\n",
              "29     7.714155e+07    54.897133    3.441741  135.092607      9.806385\n",
              "30     6.271689e+07    68.847622    3.219699  215.646311      7.623846\n",
              "31     1.996139e+08    68.847622    3.219699  215.646311      7.623846\n",
              "32     1.668192e+08    52.747552    3.241559  193.664243      8.585734\n",
              "33     3.716022e+07    76.728182    3.575923  128.679669      8.533154\n",
              "34     1.382498e+08    58.495874    3.216972  128.679669      9.934804\n",
              "35     1.315207e+08    57.311119    3.417608  139.011284      8.788573\n",
              "36     5.341221e+07    71.160350    3.204203  214.729069      7.869049\n",
              "37     7.420274e+07    71.160350    3.219699  214.729069      7.869049\n",
              "38     5.515963e+07    70.262797    3.606420  128.679669     13.116483\n",
              "39     2.074455e+08    70.597343    3.219699  214.729069      7.869049\n",
              "40     1.378703e+08    47.674545    3.441741  135.092607      4.796014\n",
              "41     1.813419e+08    48.410350    3.241559  193.664243      6.973378\n",
              "42     7.956575e+07    72.241189    3.575923  128.679669      8.362965\n",
              "43     9.056544e+07    68.877692    3.219699  207.735162      9.934804\n",
              "44     4.329309e+07    53.697133    3.286147  128.679669      6.735622\n",
              "45     1.123953e+08    57.790979    3.417608  186.285678      8.648748"
            ],
            "text/html": [
              "\n",
              "  <div id=\"df-69aff5aa-3d41-485c-9e6d-a5cd2d11edb6\">\n",
              "    <div class=\"colab-df-container\">\n",
              "      <div>\n",
              "<style scoped>\n",
              "    .dataframe tbody tr th:only-of-type {\n",
              "        vertical-align: middle;\n",
              "    }\n",
              "\n",
              "    .dataframe tbody tr th {\n",
              "        vertical-align: top;\n",
              "    }\n",
              "\n",
              "    .dataframe thead th {\n",
              "        text-align: right;\n",
              "    }\n",
              "</style>\n",
              "<table border=\"1\" class=\"dataframe\">\n",
              "  <thead>\n",
              "    <tr style=\"text-align: right;\">\n",
              "      <th></th>\n",
              "      <th>Weekly_Sales</th>\n",
              "      <th>Temperature</th>\n",
              "      <th>Fuel_Price</th>\n",
              "      <th>CPI</th>\n",
              "      <th>Unemployment</th>\n",
              "    </tr>\n",
              "    <tr>\n",
              "      <th>Store</th>\n",
              "      <th></th>\n",
              "      <th></th>\n",
              "      <th></th>\n",
              "      <th></th>\n",
              "      <th></th>\n",
              "    </tr>\n",
              "  </thead>\n",
              "  <tbody>\n",
              "    <tr>\n",
              "      <th>1</th>\n",
              "      <td>2.224028e+08</td>\n",
              "      <td>68.306783</td>\n",
              "      <td>3.219699</td>\n",
              "      <td>215.996892</td>\n",
              "      <td>7.610420</td>\n",
              "    </tr>\n",
              "    <tr>\n",
              "      <th>2</th>\n",
              "      <td>2.753824e+08</td>\n",
              "      <td>68.216364</td>\n",
              "      <td>3.219699</td>\n",
              "      <td>215.646311</td>\n",
              "      <td>7.623846</td>\n",
              "    </tr>\n",
              "    <tr>\n",
              "      <th>3</th>\n",
              "      <td>5.758674e+07</td>\n",
              "      <td>71.434196</td>\n",
              "      <td>3.219699</td>\n",
              "      <td>219.391531</td>\n",
              "      <td>7.176986</td>\n",
              "    </tr>\n",
              "    <tr>\n",
              "      <th>4</th>\n",
              "      <td>2.995440e+08</td>\n",
              "      <td>62.253357</td>\n",
              "      <td>3.216972</td>\n",
              "      <td>128.679669</td>\n",
              "      <td>5.964692</td>\n",
              "    </tr>\n",
              "    <tr>\n",
              "      <th>5</th>\n",
              "      <td>4.547569e+07</td>\n",
              "      <td>69.410140</td>\n",
              "      <td>3.219699</td>\n",
              "      <td>216.565581</td>\n",
              "      <td>6.295406</td>\n",
              "    </tr>\n",
              "    <tr>\n",
              "      <th>6</th>\n",
              "      <td>2.237561e+08</td>\n",
              "      <td>69.700000</td>\n",
              "      <td>3.219699</td>\n",
              "      <td>217.553197</td>\n",
              "      <td>6.606902</td>\n",
              "    </tr>\n",
              "    <tr>\n",
              "      <th>7</th>\n",
              "      <td>8.159828e+07</td>\n",
              "      <td>39.720280</td>\n",
              "      <td>3.241559</td>\n",
              "      <td>193.664243</td>\n",
              "      <td>8.585734</td>\n",
              "    </tr>\n",
              "    <tr>\n",
              "      <th>8</th>\n",
              "      <td>1.299512e+08</td>\n",
              "      <td>62.513986</td>\n",
              "      <td>3.219699</td>\n",
              "      <td>219.439026</td>\n",
              "      <td>6.091846</td>\n",
              "    </tr>\n",
              "    <tr>\n",
              "      <th>9</th>\n",
              "      <td>7.778922e+07</td>\n",
              "      <td>67.775175</td>\n",
              "      <td>3.219699</td>\n",
              "      <td>219.626689</td>\n",
              "      <td>6.099881</td>\n",
              "    </tr>\n",
              "    <tr>\n",
              "      <th>10</th>\n",
              "      <td>2.716177e+08</td>\n",
              "      <td>72.241189</td>\n",
              "      <td>3.575923</td>\n",
              "      <td>128.679669</td>\n",
              "      <td>8.362965</td>\n",
              "    </tr>\n",
              "    <tr>\n",
              "      <th>11</th>\n",
              "      <td>1.939628e+08</td>\n",
              "      <td>72.480769</td>\n",
              "      <td>3.219699</td>\n",
              "      <td>219.391531</td>\n",
              "      <td>7.176986</td>\n",
              "    </tr>\n",
              "    <tr>\n",
              "      <th>12</th>\n",
              "      <td>1.442872e+08</td>\n",
              "      <td>70.262797</td>\n",
              "      <td>3.606420</td>\n",
              "      <td>128.679669</td>\n",
              "      <td>13.116483</td>\n",
              "    </tr>\n",
              "    <tr>\n",
              "      <th>13</th>\n",
              "      <td>2.865177e+08</td>\n",
              "      <td>53.697133</td>\n",
              "      <td>3.286147</td>\n",
              "      <td>128.679669</td>\n",
              "      <td>7.001825</td>\n",
              "    </tr>\n",
              "    <tr>\n",
              "      <th>14</th>\n",
              "      <td>2.889999e+08</td>\n",
              "      <td>57.790979</td>\n",
              "      <td>3.417608</td>\n",
              "      <td>186.285678</td>\n",
              "      <td>8.648748</td>\n",
              "    </tr>\n",
              "    <tr>\n",
              "      <th>15</th>\n",
              "      <td>8.913368e+07</td>\n",
              "      <td>51.833846</td>\n",
              "      <td>3.578294</td>\n",
              "      <td>135.092607</td>\n",
              "      <td>7.996252</td>\n",
              "    </tr>\n",
              "    <tr>\n",
              "      <th>16</th>\n",
              "      <td>7.425243e+07</td>\n",
              "      <td>45.030070</td>\n",
              "      <td>3.241559</td>\n",
              "      <td>193.664243</td>\n",
              "      <td>6.477993</td>\n",
              "    </tr>\n",
              "    <tr>\n",
              "      <th>17</th>\n",
              "      <td>1.277821e+08</td>\n",
              "      <td>46.387203</td>\n",
              "      <td>3.286147</td>\n",
              "      <td>128.679669</td>\n",
              "      <td>6.549406</td>\n",
              "    </tr>\n",
              "    <tr>\n",
              "      <th>18</th>\n",
              "      <td>1.551147e+08</td>\n",
              "      <td>53.371259</td>\n",
              "      <td>3.441741</td>\n",
              "      <td>135.092607</td>\n",
              "      <td>8.838301</td>\n",
              "    </tr>\n",
              "    <tr>\n",
              "      <th>19</th>\n",
              "      <td>2.066349e+08</td>\n",
              "      <td>52.295035</td>\n",
              "      <td>3.578294</td>\n",
              "      <td>135.092607</td>\n",
              "      <td>7.996252</td>\n",
              "    </tr>\n",
              "    <tr>\n",
              "      <th>20</th>\n",
              "      <td>3.013978e+08</td>\n",
              "      <td>55.451399</td>\n",
              "      <td>3.417608</td>\n",
              "      <td>209.038131</td>\n",
              "      <td>7.371413</td>\n",
              "    </tr>\n",
              "    <tr>\n",
              "      <th>21</th>\n",
              "      <td>1.081179e+08</td>\n",
              "      <td>68.847622</td>\n",
              "      <td>3.219699</td>\n",
              "      <td>215.646311</td>\n",
              "      <td>7.623846</td>\n",
              "    </tr>\n",
              "    <tr>\n",
              "      <th>22</th>\n",
              "      <td>1.470756e+08</td>\n",
              "      <td>54.897133</td>\n",
              "      <td>3.441741</td>\n",
              "      <td>139.011284</td>\n",
              "      <td>8.069371</td>\n",
              "    </tr>\n",
              "    <tr>\n",
              "      <th>23</th>\n",
              "      <td>1.987506e+08</td>\n",
              "      <td>48.805105</td>\n",
              "      <td>3.441741</td>\n",
              "      <td>135.092607</td>\n",
              "      <td>4.796014</td>\n",
              "    </tr>\n",
              "    <tr>\n",
              "      <th>24</th>\n",
              "      <td>1.940160e+08</td>\n",
              "      <td>54.030000</td>\n",
              "      <td>3.578294</td>\n",
              "      <td>135.092607</td>\n",
              "      <td>8.447014</td>\n",
              "    </tr>\n",
              "    <tr>\n",
              "      <th>25</th>\n",
              "      <td>1.010612e+08</td>\n",
              "      <td>52.138392</td>\n",
              "      <td>3.417608</td>\n",
              "      <td>209.038131</td>\n",
              "      <td>7.371413</td>\n",
              "    </tr>\n",
              "    <tr>\n",
              "      <th>26</th>\n",
              "      <td>1.434164e+08</td>\n",
              "      <td>43.658252</td>\n",
              "      <td>3.441741</td>\n",
              "      <td>135.092607</td>\n",
              "      <td>7.872070</td>\n",
              "    </tr>\n",
              "    <tr>\n",
              "      <th>27</th>\n",
              "      <td>2.538559e+08</td>\n",
              "      <td>57.311119</td>\n",
              "      <td>3.578294</td>\n",
              "      <td>139.011284</td>\n",
              "      <td>8.001748</td>\n",
              "    </tr>\n",
              "    <tr>\n",
              "      <th>28</th>\n",
              "      <td>1.892637e+08</td>\n",
              "      <td>70.262797</td>\n",
              "      <td>3.606420</td>\n",
              "      <td>128.679669</td>\n",
              "      <td>13.116483</td>\n",
              "    </tr>\n",
              "    <tr>\n",
              "      <th>29</th>\n",
              "      <td>7.714155e+07</td>\n",
              "      <td>54.897133</td>\n",
              "      <td>3.441741</td>\n",
              "      <td>135.092607</td>\n",
              "      <td>9.806385</td>\n",
              "    </tr>\n",
              "    <tr>\n",
              "      <th>30</th>\n",
              "      <td>6.271689e+07</td>\n",
              "      <td>68.847622</td>\n",
              "      <td>3.219699</td>\n",
              "      <td>215.646311</td>\n",
              "      <td>7.623846</td>\n",
              "    </tr>\n",
              "    <tr>\n",
              "      <th>31</th>\n",
              "      <td>1.996139e+08</td>\n",
              "      <td>68.847622</td>\n",
              "      <td>3.219699</td>\n",
              "      <td>215.646311</td>\n",
              "      <td>7.623846</td>\n",
              "    </tr>\n",
              "    <tr>\n",
              "      <th>32</th>\n",
              "      <td>1.668192e+08</td>\n",
              "      <td>52.747552</td>\n",
              "      <td>3.241559</td>\n",
              "      <td>193.664243</td>\n",
              "      <td>8.585734</td>\n",
              "    </tr>\n",
              "    <tr>\n",
              "      <th>33</th>\n",
              "      <td>3.716022e+07</td>\n",
              "      <td>76.728182</td>\n",
              "      <td>3.575923</td>\n",
              "      <td>128.679669</td>\n",
              "      <td>8.533154</td>\n",
              "    </tr>\n",
              "    <tr>\n",
              "      <th>34</th>\n",
              "      <td>1.382498e+08</td>\n",
              "      <td>58.495874</td>\n",
              "      <td>3.216972</td>\n",
              "      <td>128.679669</td>\n",
              "      <td>9.934804</td>\n",
              "    </tr>\n",
              "    <tr>\n",
              "      <th>35</th>\n",
              "      <td>1.315207e+08</td>\n",
              "      <td>57.311119</td>\n",
              "      <td>3.417608</td>\n",
              "      <td>139.011284</td>\n",
              "      <td>8.788573</td>\n",
              "    </tr>\n",
              "    <tr>\n",
              "      <th>36</th>\n",
              "      <td>5.341221e+07</td>\n",
              "      <td>71.160350</td>\n",
              "      <td>3.204203</td>\n",
              "      <td>214.729069</td>\n",
              "      <td>7.869049</td>\n",
              "    </tr>\n",
              "    <tr>\n",
              "      <th>37</th>\n",
              "      <td>7.420274e+07</td>\n",
              "      <td>71.160350</td>\n",
              "      <td>3.219699</td>\n",
              "      <td>214.729069</td>\n",
              "      <td>7.869049</td>\n",
              "    </tr>\n",
              "    <tr>\n",
              "      <th>38</th>\n",
              "      <td>5.515963e+07</td>\n",
              "      <td>70.262797</td>\n",
              "      <td>3.606420</td>\n",
              "      <td>128.679669</td>\n",
              "      <td>13.116483</td>\n",
              "    </tr>\n",
              "    <tr>\n",
              "      <th>39</th>\n",
              "      <td>2.074455e+08</td>\n",
              "      <td>70.597343</td>\n",
              "      <td>3.219699</td>\n",
              "      <td>214.729069</td>\n",
              "      <td>7.869049</td>\n",
              "    </tr>\n",
              "    <tr>\n",
              "      <th>40</th>\n",
              "      <td>1.378703e+08</td>\n",
              "      <td>47.674545</td>\n",
              "      <td>3.441741</td>\n",
              "      <td>135.092607</td>\n",
              "      <td>4.796014</td>\n",
              "    </tr>\n",
              "    <tr>\n",
              "      <th>41</th>\n",
              "      <td>1.813419e+08</td>\n",
              "      <td>48.410350</td>\n",
              "      <td>3.241559</td>\n",
              "      <td>193.664243</td>\n",
              "      <td>6.973378</td>\n",
              "    </tr>\n",
              "    <tr>\n",
              "      <th>42</th>\n",
              "      <td>7.956575e+07</td>\n",
              "      <td>72.241189</td>\n",
              "      <td>3.575923</td>\n",
              "      <td>128.679669</td>\n",
              "      <td>8.362965</td>\n",
              "    </tr>\n",
              "    <tr>\n",
              "      <th>43</th>\n",
              "      <td>9.056544e+07</td>\n",
              "      <td>68.877692</td>\n",
              "      <td>3.219699</td>\n",
              "      <td>207.735162</td>\n",
              "      <td>9.934804</td>\n",
              "    </tr>\n",
              "    <tr>\n",
              "      <th>44</th>\n",
              "      <td>4.329309e+07</td>\n",
              "      <td>53.697133</td>\n",
              "      <td>3.286147</td>\n",
              "      <td>128.679669</td>\n",
              "      <td>6.735622</td>\n",
              "    </tr>\n",
              "    <tr>\n",
              "      <th>45</th>\n",
              "      <td>1.123953e+08</td>\n",
              "      <td>57.790979</td>\n",
              "      <td>3.417608</td>\n",
              "      <td>186.285678</td>\n",
              "      <td>8.648748</td>\n",
              "    </tr>\n",
              "  </tbody>\n",
              "</table>\n",
              "</div>\n",
              "      <button class=\"colab-df-convert\" onclick=\"convertToInteractive('df-69aff5aa-3d41-485c-9e6d-a5cd2d11edb6')\"\n",
              "              title=\"Convert this dataframe to an interactive table.\"\n",
              "              style=\"display:none;\">\n",
              "        \n",
              "  <svg xmlns=\"http://www.w3.org/2000/svg\" height=\"24px\"viewBox=\"0 0 24 24\"\n",
              "       width=\"24px\">\n",
              "    <path d=\"M0 0h24v24H0V0z\" fill=\"none\"/>\n",
              "    <path d=\"M18.56 5.44l.94 2.06.94-2.06 2.06-.94-2.06-.94-.94-2.06-.94 2.06-2.06.94zm-11 1L8.5 8.5l.94-2.06 2.06-.94-2.06-.94L8.5 2.5l-.94 2.06-2.06.94zm10 10l.94 2.06.94-2.06 2.06-.94-2.06-.94-.94-2.06-.94 2.06-2.06.94z\"/><path d=\"M17.41 7.96l-1.37-1.37c-.4-.4-.92-.59-1.43-.59-.52 0-1.04.2-1.43.59L10.3 9.45l-7.72 7.72c-.78.78-.78 2.05 0 2.83L4 21.41c.39.39.9.59 1.41.59.51 0 1.02-.2 1.41-.59l7.78-7.78 2.81-2.81c.8-.78.8-2.07 0-2.86zM5.41 20L4 18.59l7.72-7.72 1.47 1.35L5.41 20z\"/>\n",
              "  </svg>\n",
              "      </button>\n",
              "      \n",
              "  <style>\n",
              "    .colab-df-container {\n",
              "      display:flex;\n",
              "      flex-wrap:wrap;\n",
              "      gap: 12px;\n",
              "    }\n",
              "\n",
              "    .colab-df-convert {\n",
              "      background-color: #E8F0FE;\n",
              "      border: none;\n",
              "      border-radius: 50%;\n",
              "      cursor: pointer;\n",
              "      display: none;\n",
              "      fill: #1967D2;\n",
              "      height: 32px;\n",
              "      padding: 0 0 0 0;\n",
              "      width: 32px;\n",
              "    }\n",
              "\n",
              "    .colab-df-convert:hover {\n",
              "      background-color: #E2EBFA;\n",
              "      box-shadow: 0px 1px 2px rgba(60, 64, 67, 0.3), 0px 1px 3px 1px rgba(60, 64, 67, 0.15);\n",
              "      fill: #174EA6;\n",
              "    }\n",
              "\n",
              "    [theme=dark] .colab-df-convert {\n",
              "      background-color: #3B4455;\n",
              "      fill: #D2E3FC;\n",
              "    }\n",
              "\n",
              "    [theme=dark] .colab-df-convert:hover {\n",
              "      background-color: #434B5C;\n",
              "      box-shadow: 0px 1px 3px 1px rgba(0, 0, 0, 0.15);\n",
              "      filter: drop-shadow(0px 1px 2px rgba(0, 0, 0, 0.3));\n",
              "      fill: #FFFFFF;\n",
              "    }\n",
              "  </style>\n",
              "\n",
              "      <script>\n",
              "        const buttonEl =\n",
              "          document.querySelector('#df-69aff5aa-3d41-485c-9e6d-a5cd2d11edb6 button.colab-df-convert');\n",
              "        buttonEl.style.display =\n",
              "          google.colab.kernel.accessAllowed ? 'block' : 'none';\n",
              "\n",
              "        async function convertToInteractive(key) {\n",
              "          const element = document.querySelector('#df-69aff5aa-3d41-485c-9e6d-a5cd2d11edb6');\n",
              "          const dataTable =\n",
              "            await google.colab.kernel.invokeFunction('convertToInteractive',\n",
              "                                                     [key], {});\n",
              "          if (!dataTable) return;\n",
              "\n",
              "          const docLinkHtml = 'Like what you see? Visit the ' +\n",
              "            '<a target=\"_blank\" href=https://colab.research.google.com/notebooks/data_table.ipynb>data table notebook</a>'\n",
              "            + ' to learn more about interactive tables.';\n",
              "          element.innerHTML = '';\n",
              "          dataTable['output_type'] = 'display_data';\n",
              "          await google.colab.output.renderOutput(dataTable, element);\n",
              "          const docLink = document.createElement('div');\n",
              "          docLink.innerHTML = docLinkHtml;\n",
              "          element.appendChild(docLink);\n",
              "        }\n",
              "      </script>\n",
              "    </div>\n",
              "  </div>\n",
              "  "
            ]
          },
          "metadata": {},
          "execution_count": 16
        }
      ]
    },
    {
      "cell_type": "markdown",
      "source": [
        "Verificando as lojas que possuem mais vendas"
      ],
      "metadata": {
        "id": "DDGGbLh5S20V"
      }
    },
    {
      "cell_type": "code",
      "source": [
        "display(df_lojas.sort_values(by= ['Weekly_Sales'], ascending = False))"
      ],
      "metadata": {
        "id": "BlU8GzAXPjb9"
      },
      "execution_count": null,
      "outputs": []
    },
    {
      "cell_type": "markdown",
      "source": [
        "Verificando as lojas que vendem menos"
      ],
      "metadata": {
        "id": "KknQFfEzTE8a"
      }
    },
    {
      "cell_type": "code",
      "source": [
        "display(df_lojas.sort_values(by= ['Weekly_Sales'], ascending =True))"
      ],
      "metadata": {
        "id": "9bqFUUj2S9jv"
      },
      "execution_count": null,
      "outputs": []
    },
    {
      "cell_type": "markdown",
      "source": [
        "Fazer relatório em power point, com graficos insights e decisões, com apresentação do projeto???"
      ],
      "metadata": {
        "id": "RhCULVdEEFAo"
      }
    },
    {
      "cell_type": "markdown",
      "source": [
        "O Índice de Preços ao Consumidor (IPC) mede a variação de preços de um conjunto fixo de bens e serviços componentes de despesas habituais de famílias com nível de renda situado entre 1 e 33 salários mínimos mensais."
      ],
      "metadata": {
        "id": "Vl0-xETdHszF"
      }
    },
    {
      "cell_type": "markdown",
      "source": [
        "Verifica-se que os feriados nao exercem mta influencia para as vendas, obs verificar proximidades com o feriado(ex: as maiores vendas foram nos dias 23 e 24, considerou natal dias 28,30 e 31, não podemos só olhar o dia dos feriados precisaremos ver a proximidade)\n",
        "\n",
        "\"essas remarcações precedem feriados importantes, os quatro maiores de todos, que são (os 4 marcados) as semanas que incluem esses feriados tem um peso maior\""
      ],
      "metadata": {
        "id": "OW9OYN9wZiUh"
      }
    },
    {
      "cell_type": "markdown",
      "source": [
        "Verificar se as lojas proximas aos acontecimentos especificos dos feriados exercem alguma influencia na venda(ex no feriado do ***Super_Boul*** as lojas proximas ao local ocorre mais influencia desse feriado): Precisa conseguir os endereços das lojas e dos acontecimentos do feriado\n",
        "\n"
      ],
      "metadata": {
        "id": "Y8A_Nkg1XFvI"
      }
    },
    {
      "cell_type": "markdown",
      "source": [
        "Pq estão pedindo tanto destaque com feriados se precisamos considerar as lojas que mais vendem o ano inteiro já que o aumento da loja é uma mudança permanente"
      ],
      "metadata": {
        "id": "5DfbOhdSXz4O"
      }
    },
    {
      "cell_type": "markdown",
      "source": [
        "fazer somatorio de todas as ***Weekly_Sales*** por loja para identificar as que tiveram maior volume de vendas\n",
        "\n",
        "Regiao x desemprego x populacao da regiao*"
      ],
      "metadata": {
        "id": "jQs6Q2UcTvBt"
      }
    },
    {
      "cell_type": "markdown",
      "source": [
        "quantidade de venda pelo tamanho da loja: pesquisar se é possivel conseguir esse dado:"
      ],
      "metadata": {
        "id": "totOkac7WnRF"
      }
    },
    {
      "cell_type": "markdown",
      "source": [
        "---"
      ],
      "metadata": {
        "id": "YTj3ROfSXzz-"
      }
    },
    {
      "cell_type": "markdown",
      "source": [
        "![image.png](data:image/png;base64,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)"
      ],
      "metadata": {
        "id": "Dpfa3uyRa8ve"
      }
    }
  ]
}