{
  "cells": [
    {
      "cell_type": "code",
      "execution_count": null,
      "id": "3eb3487a",
      "metadata": {
        "id": "3eb3487a"
      },
      "outputs": [],
      "source": [
        "import numpy as np \n",
        "import pandas as pd \n",
        "import matplotlib.pyplot as plt \n",
        "import seaborn as sns "
      ]
    },
    {
      "cell_type": "markdown",
      "id": "06e0a71a",
      "metadata": {
        "id": "06e0a71a"
      },
      "source": [
        "## Business Understanding"
      ]
    },
    {
      "cell_type": "markdown",
      "id": "e99c4bd7",
      "metadata": {
        "id": "e99c4bd7"
      },
      "source": [
        "A primeira etapa da metodologia consiste em identificar as reais necessidades do projeto. \n",
        "Antes de respondermos algumas perguntas vamos entender um pouco melhor sobre a empresa em questão\n",
        "\n",
        "<b>Wallmart</b>\n",
        "<br/>\n",
        "<br/>\n",
        "Walmart, Inc., é uma multinacional estadunidense de lojas de departamento. \n",
        "A companhia foi fundada por Sam Walton em 1962, incorporada em 31 de outubro de 1969 e feita capital aberto na New York Stock Exchange, em 1972. No ano de 2021, obteve um um lucro de $13.51 Bilhões.Sendo uma das principais lojas de varejo do mundo!\n",
        "\n",
        "### <p style=\"color: #2281e6\"> <b>Perguntas para esclarecimento do negócio. </b></p>\n",
        "\n",
        "<b>Qual a necessidade da empresa ? </b>\n",
        "<br/>\n",
        "A empresa possui uma necessidade de identificar o faturamento das lojas nos USA. São 45 lojas espalhadas pelo país.\n",
        "\n",
        "<b>Qual o objetivo do projeto ? </b>\n",
        "<br/>\n",
        "Fazer um levantamento do faturamento das 45 lojas e apontar qual seria o melhor loja para expandir o tamanho.\n",
        "\n",
        "<b>Quais as métricas de sucesso a serem alcançadas ? </b>\n",
        "<br/>\n",
        "Identificar a melhor loja para expandir de tamanho\n",
        "\n",
        "\n"
      ]
    },
    {
      "cell_type": "markdown",
      "id": "59540bf3",
      "metadata": {
        "id": "59540bf3"
      },
      "source": [
        " "
      ]
    },
    {
      "cell_type": "markdown",
      "id": "930dc13f",
      "metadata": {
        "id": "930dc13f"
      },
      "source": [
        "## Data Understanding"
      ]
    },
    {
      "cell_type": "markdown",
      "id": "ef6e2339",
      "metadata": {
        "id": "ef6e2339"
      },
      "source": [
        "A segunda etapa consiste em coletar, organizar e documentar todos os dados que se encontram disponíveis para realizar a análise exploratória. São 4 tasks principais para essa etapa do processo. Coleta inicial dos dados, descrição dos dados, exploração dos dados e qualidade dos dados"
      ]
    },
    {
      "cell_type": "markdown",
      "id": "d702ffec",
      "metadata": {
        "id": "d702ffec"
      },
      "source": [
        "### <p style=\"color: #2281e6\"> <b> 1° etapa - Coleta inicial dos dados</b></p>"
      ]
    },
    {
      "cell_type": "markdown",
      "id": "ca274e16",
      "metadata": {
        "id": "ca274e16"
      },
      "source": [
        "<b>Os dados estão disponíveis ?</b>\n",
        "<br/>\n",
        "Sim. Temos um CSV com todas as informações necessárias para a resolução do problema\n"
      ]
    },
    {
      "cell_type": "markdown",
      "id": "4159f6a4",
      "metadata": {
        "id": "4159f6a4"
      },
      "source": [
        "### <p style=\"color: #2281e6\"> <b> 2° etapa - Descrição dos dados</b></p>"
      ]
    },
    {
      "cell_type": "markdown",
      "id": "6728ed4b",
      "metadata": {
        "id": "6728ed4b"
      },
      "source": [
        "<b>Qual a estrutura desses dados ?</b>\n"
      ]
    },
    {
      "cell_type": "markdown",
      "id": "2bc2ff27",
      "metadata": {
        "id": "2bc2ff27"
      },
      "source": [
        "<img src=\"explicação-dataset.png\" width=70%>"
      ]
    },
    {
      "cell_type": "code",
      "execution_count": null,
      "id": "450b35cd",
      "metadata": {
        "id": "450b35cd",
        "outputId": "426d0ddd-ed71-4065-b1f5-388a39a7735a"
      },
      "outputs": [
        {
          "name": "stdout",
          "output_type": "stream",
          "text": [
            "<class 'pandas.core.frame.DataFrame'>\n",
            "RangeIndex: 6435 entries, 0 to 6434\n",
            "Data columns (total 8 columns):\n",
            " #   Column        Non-Null Count  Dtype  \n",
            "---  ------        --------------  -----  \n",
            " 0   Store         6435 non-null   int64  \n",
            " 1   Date          6435 non-null   object \n",
            " 2   Weekly_Sales  6435 non-null   float64\n",
            " 3   Holiday_Flag  6435 non-null   int64  \n",
            " 4   Temperature   6435 non-null   float64\n",
            " 5   Fuel_Price    6435 non-null   float64\n",
            " 6   CPI           6435 non-null   float64\n",
            " 7   Unemployment  6435 non-null   float64\n",
            "dtypes: float64(5), int64(2), object(1)\n",
            "memory usage: 402.3+ KB\n"
          ]
        }
      ],
      "source": [
        "df = pd.read_csv('Walmart.csv')\n",
        "df.info()"
      ]
    },
    {
      "cell_type": "markdown",
      "id": "5103b257",
      "metadata": {
        "id": "5103b257"
      },
      "source": [
        "### <p style=\"color: #2281e6\"> <b> 3° etapa - Exploração dos dados</b></p>"
      ]
    },
    {
      "cell_type": "markdown",
      "id": "447c5e04",
      "metadata": {
        "id": "447c5e04"
      },
      "source": [
        "Entendendo melhor os dados disponíveis."
      ]
    },
    {
      "cell_type": "code",
      "execution_count": null,
      "id": "78ba83e2",
      "metadata": {
        "id": "78ba83e2",
        "outputId": "cdf1d250-558a-4c73-ccd2-7604efc32109"
      },
      "outputs": [
        {
          "data": {
            "text/html": [
              "<div>\n",
              "<style scoped>\n",
              "    .dataframe tbody tr th:only-of-type {\n",
              "        vertical-align: middle;\n",
              "    }\n",
              "\n",
              "    .dataframe tbody tr th {\n",
              "        vertical-align: top;\n",
              "    }\n",
              "\n",
              "    .dataframe thead th {\n",
              "        text-align: right;\n",
              "    }\n",
              "</style>\n",
              "<table border=\"1\" class=\"dataframe\">\n",
              "  <thead>\n",
              "    <tr style=\"text-align: right;\">\n",
              "      <th></th>\n",
              "      <th>Store</th>\n",
              "      <th>Date</th>\n",
              "      <th>Weekly_Sales</th>\n",
              "      <th>Holiday_Flag</th>\n",
              "      <th>Temperature</th>\n",
              "      <th>Fuel_Price</th>\n",
              "      <th>CPI</th>\n",
              "      <th>Unemployment</th>\n",
              "    </tr>\n",
              "  </thead>\n",
              "  <tbody>\n",
              "    <tr>\n",
              "      <th>0</th>\n",
              "      <td>1</td>\n",
              "      <td>05-02-2010</td>\n",
              "      <td>1643690.90</td>\n",
              "      <td>0</td>\n",
              "      <td>42.31</td>\n",
              "      <td>2.572</td>\n",
              "      <td>211.096358</td>\n",
              "      <td>8.106</td>\n",
              "    </tr>\n",
              "    <tr>\n",
              "      <th>1</th>\n",
              "      <td>1</td>\n",
              "      <td>12-02-2010</td>\n",
              "      <td>1641957.44</td>\n",
              "      <td>1</td>\n",
              "      <td>38.51</td>\n",
              "      <td>2.548</td>\n",
              "      <td>211.242170</td>\n",
              "      <td>8.106</td>\n",
              "    </tr>\n",
              "    <tr>\n",
              "      <th>2</th>\n",
              "      <td>1</td>\n",
              "      <td>19-02-2010</td>\n",
              "      <td>1611968.17</td>\n",
              "      <td>0</td>\n",
              "      <td>39.93</td>\n",
              "      <td>2.514</td>\n",
              "      <td>211.289143</td>\n",
              "      <td>8.106</td>\n",
              "    </tr>\n",
              "    <tr>\n",
              "      <th>3</th>\n",
              "      <td>1</td>\n",
              "      <td>26-02-2010</td>\n",
              "      <td>1409727.59</td>\n",
              "      <td>0</td>\n",
              "      <td>46.63</td>\n",
              "      <td>2.561</td>\n",
              "      <td>211.319643</td>\n",
              "      <td>8.106</td>\n",
              "    </tr>\n",
              "    <tr>\n",
              "      <th>4</th>\n",
              "      <td>1</td>\n",
              "      <td>05-03-2010</td>\n",
              "      <td>1554806.68</td>\n",
              "      <td>0</td>\n",
              "      <td>46.50</td>\n",
              "      <td>2.625</td>\n",
              "      <td>211.350143</td>\n",
              "      <td>8.106</td>\n",
              "    </tr>\n",
              "  </tbody>\n",
              "</table>\n",
              "</div>"
            ],
            "text/plain": [
              "   Store        Date  Weekly_Sales  Holiday_Flag  Temperature  Fuel_Price  \\\n",
              "0      1  05-02-2010    1643690.90             0        42.31       2.572   \n",
              "1      1  12-02-2010    1641957.44             1        38.51       2.548   \n",
              "2      1  19-02-2010    1611968.17             0        39.93       2.514   \n",
              "3      1  26-02-2010    1409727.59             0        46.63       2.561   \n",
              "4      1  05-03-2010    1554806.68             0        46.50       2.625   \n",
              "\n",
              "          CPI  Unemployment  \n",
              "0  211.096358         8.106  \n",
              "1  211.242170         8.106  \n",
              "2  211.289143         8.106  \n",
              "3  211.319643         8.106  \n",
              "4  211.350143         8.106  "
            ]
          },
          "execution_count": 79,
          "metadata": {},
          "output_type": "execute_result"
        }
      ],
      "source": [
        "df.head()"
      ]
    },
    {
      "cell_type": "code",
      "execution_count": null,
      "id": "b6a44055",
      "metadata": {
        "id": "b6a44055",
        "outputId": "5f6e28a0-c4c5-4799-9a11-4b77bd86122b"
      },
      "outputs": [
        {
          "data": {
            "text/plain": [
              "<AxesSubplot:>"
            ]
          },
          "execution_count": 80,
          "metadata": {},
          "output_type": "execute_result"
        },
        {
          "data": {
            "image/png": "[encoded data removed]",
            "text/plain": [
              "<Figure size 1800x936 with 2 Axes>"
            ]
          },
          "metadata": {
            "needs_background": "light"
          },
          "output_type": "display_data"
        }
      ],
      "source": [
        "plt.figure(figsize = (25,13))\n",
        "sns.heatmap(df.corr(),  annot=True)"
      ]
    },
    {
      "cell_type": "code",
      "execution_count": null,
      "id": "c9015d35",
      "metadata": {
        "id": "c9015d35",
        "outputId": "39f30841-2dfd-4b82-d585-a0ff66585264"
      },
      "outputs": [
        {
          "data": {
            "text/plain": [
              "4     143\n",
              "2     143\n",
              "10    143\n",
              "14    143\n",
              "18    143\n",
              "22    143\n",
              "26    143\n",
              "30    143\n",
              "34    143\n",
              "38    143\n",
              "42    143\n",
              "3     143\n",
              "7     143\n",
              "11    143\n",
              "15    143\n",
              "19    143\n",
              "23    143\n",
              "27    143\n",
              "31    143\n",
              "35    143\n",
              "39    143\n",
              "6     143\n",
              "45    143\n",
              "8     143\n",
              "41    143\n",
              "12    143\n",
              "16    143\n",
              "20    143\n",
              "24    143\n",
              "28    143\n",
              "32    143\n",
              "36    143\n",
              "40    143\n",
              "44    143\n",
              "1     143\n",
              "5     143\n",
              "9     143\n",
              "13    143\n",
              "17    143\n",
              "21    143\n",
              "25    143\n",
              "29    143\n",
              "33    143\n",
              "37    143\n",
              "43    143\n",
              "Name: Store, dtype: int64"
            ]
          },
          "execution_count": 81,
          "metadata": {},
          "output_type": "execute_result"
        }
      ],
      "source": [
        "# Verficando se a quantidade de lojas bate\n",
        "df['Store'].sort_values(ascending = True).value_counts()"
      ]
    },
    {
      "cell_type": "code",
      "execution_count": null,
      "id": "1afdd9c7",
      "metadata": {
        "id": "1afdd9c7",
        "outputId": "9791ac32-f2a7-4a57-96e0-b36d4f76c7ee"
      },
      "outputs": [
        {
          "data": {
            "text/plain": [
              "Store           10\n",
              "Date            10\n",
              "Weekly_Sales    10\n",
              "Holiday_Flag    10\n",
              "Temperature     10\n",
              "Fuel_Price      10\n",
              "CPI             10\n",
              "Unemployment    10\n",
              "dtype: int64"
            ]
          },
          "execution_count": 82,
          "metadata": {},
          "output_type": "execute_result"
        }
      ],
      "source": [
        "# Verificando quantos registros existem na semana de algum feriado\n",
        "df[(df['Store'] == 1) & (df['Holiday_Flag'] == 1)].count()"
      ]
    },
    {
      "cell_type": "code",
      "execution_count": null,
      "id": "22ce0aee",
      "metadata": {
        "id": "22ce0aee",
        "outputId": "964ffdbf-c08b-40b3-f1a9-13c481348ee6"
      },
      "outputs": [
        {
          "data": {
            "text/html": [
              "<div>\n",
              "<style scoped>\n",
              "    .dataframe tbody tr th:only-of-type {\n",
              "        vertical-align: middle;\n",
              "    }\n",
              "\n",
              "    .dataframe tbody tr th {\n",
              "        vertical-align: top;\n",
              "    }\n",
              "\n",
              "    .dataframe thead th {\n",
              "        text-align: right;\n",
              "    }\n",
              "</style>\n",
              "<table border=\"1\" class=\"dataframe\">\n",
              "  <thead>\n",
              "    <tr style=\"text-align: right;\">\n",
              "      <th></th>\n",
              "      <th>min</th>\n",
              "      <th>max</th>\n",
              "      <th>mean</th>\n",
              "      <th>median</th>\n",
              "    </tr>\n",
              "    <tr>\n",
              "      <th>Store</th>\n",
              "      <th></th>\n",
              "      <th></th>\n",
              "      <th></th>\n",
              "      <th></th>\n",
              "    </tr>\n",
              "  </thead>\n",
              "  <tbody>\n",
              "    <tr>\n",
              "      <th>1</th>\n",
              "      <td>1.32</td>\n",
              "      <td>2.39</td>\n",
              "      <td>1.56</td>\n",
              "      <td>1.53</td>\n",
              "    </tr>\n",
              "    <tr>\n",
              "      <th>2</th>\n",
              "      <td>1.65</td>\n",
              "      <td>3.44</td>\n",
              "      <td>1.93</td>\n",
              "      <td>1.88</td>\n",
              "    </tr>\n",
              "    <tr>\n",
              "      <th>3</th>\n",
              "      <td>0.34</td>\n",
              "      <td>0.61</td>\n",
              "      <td>0.40</td>\n",
              "      <td>0.40</td>\n",
              "    </tr>\n",
              "    <tr>\n",
              "      <th>4</th>\n",
              "      <td>1.76</td>\n",
              "      <td>3.68</td>\n",
              "      <td>2.09</td>\n",
              "      <td>2.07</td>\n",
              "    </tr>\n",
              "    <tr>\n",
              "      <th>5</th>\n",
              "      <td>0.26</td>\n",
              "      <td>0.51</td>\n",
              "      <td>0.32</td>\n",
              "      <td>0.31</td>\n",
              "    </tr>\n",
              "    <tr>\n",
              "      <th>6</th>\n",
              "      <td>1.26</td>\n",
              "      <td>2.73</td>\n",
              "      <td>1.56</td>\n",
              "      <td>1.52</td>\n",
              "    </tr>\n",
              "    <tr>\n",
              "      <th>7</th>\n",
              "      <td>0.37</td>\n",
              "      <td>1.06</td>\n",
              "      <td>0.57</td>\n",
              "      <td>0.56</td>\n",
              "    </tr>\n",
              "    <tr>\n",
              "      <th>8</th>\n",
              "      <td>0.77</td>\n",
              "      <td>1.51</td>\n",
              "      <td>0.91</td>\n",
              "      <td>0.89</td>\n",
              "    </tr>\n",
              "    <tr>\n",
              "      <th>9</th>\n",
              "      <td>0.45</td>\n",
              "      <td>0.91</td>\n",
              "      <td>0.54</td>\n",
              "      <td>0.54</td>\n",
              "    </tr>\n",
              "    <tr>\n",
              "      <th>10</th>\n",
              "      <td>1.63</td>\n",
              "      <td>3.75</td>\n",
              "      <td>1.90</td>\n",
              "      <td>1.83</td>\n",
              "    </tr>\n",
              "    <tr>\n",
              "      <th>11</th>\n",
              "      <td>1.10</td>\n",
              "      <td>2.31</td>\n",
              "      <td>1.36</td>\n",
              "      <td>1.32</td>\n",
              "    </tr>\n",
              "    <tr>\n",
              "      <th>12</th>\n",
              "      <td>0.80</td>\n",
              "      <td>1.77</td>\n",
              "      <td>1.01</td>\n",
              "      <td>0.98</td>\n",
              "    </tr>\n",
              "    <tr>\n",
              "      <th>13</th>\n",
              "      <td>1.63</td>\n",
              "      <td>3.60</td>\n",
              "      <td>2.00</td>\n",
              "      <td>1.96</td>\n",
              "    </tr>\n",
              "    <tr>\n",
              "      <th>14</th>\n",
              "      <td>1.48</td>\n",
              "      <td>3.82</td>\n",
              "      <td>2.02</td>\n",
              "      <td>2.00</td>\n",
              "    </tr>\n",
              "    <tr>\n",
              "      <th>15</th>\n",
              "      <td>0.45</td>\n",
              "      <td>1.37</td>\n",
              "      <td>0.62</td>\n",
              "      <td>0.60</td>\n",
              "    </tr>\n",
              "    <tr>\n",
              "      <th>16</th>\n",
              "      <td>0.37</td>\n",
              "      <td>1.00</td>\n",
              "      <td>0.52</td>\n",
              "      <td>0.51</td>\n",
              "    </tr>\n",
              "    <tr>\n",
              "      <th>17</th>\n",
              "      <td>0.64</td>\n",
              "      <td>1.31</td>\n",
              "      <td>0.89</td>\n",
              "      <td>0.87</td>\n",
              "    </tr>\n",
              "    <tr>\n",
              "      <th>18</th>\n",
              "      <td>0.54</td>\n",
              "      <td>2.03</td>\n",
              "      <td>1.08</td>\n",
              "      <td>1.06</td>\n",
              "    </tr>\n",
              "    <tr>\n",
              "      <th>19</th>\n",
              "      <td>1.18</td>\n",
              "      <td>2.68</td>\n",
              "      <td>1.44</td>\n",
              "      <td>1.41</td>\n",
              "    </tr>\n",
              "    <tr>\n",
              "      <th>20</th>\n",
              "      <td>1.76</td>\n",
              "      <td>3.77</td>\n",
              "      <td>2.11</td>\n",
              "      <td>2.05</td>\n",
              "    </tr>\n",
              "    <tr>\n",
              "      <th>21</th>\n",
              "      <td>0.60</td>\n",
              "      <td>1.59</td>\n",
              "      <td>0.76</td>\n",
              "      <td>0.74</td>\n",
              "    </tr>\n",
              "    <tr>\n",
              "      <th>22</th>\n",
              "      <td>0.77</td>\n",
              "      <td>1.96</td>\n",
              "      <td>1.03</td>\n",
              "      <td>1.00</td>\n",
              "    </tr>\n",
              "    <tr>\n",
              "      <th>23</th>\n",
              "      <td>1.02</td>\n",
              "      <td>2.73</td>\n",
              "      <td>1.39</td>\n",
              "      <td>1.36</td>\n",
              "    </tr>\n",
              "    <tr>\n",
              "      <th>24</th>\n",
              "      <td>1.06</td>\n",
              "      <td>2.39</td>\n",
              "      <td>1.36</td>\n",
              "      <td>1.34</td>\n",
              "    </tr>\n",
              "    <tr>\n",
              "      <th>25</th>\n",
              "      <td>0.56</td>\n",
              "      <td>1.30</td>\n",
              "      <td>0.71</td>\n",
              "      <td>0.69</td>\n",
              "    </tr>\n",
              "    <tr>\n",
              "      <th>26</th>\n",
              "      <td>0.81</td>\n",
              "      <td>1.57</td>\n",
              "      <td>1.00</td>\n",
              "      <td>1.00</td>\n",
              "    </tr>\n",
              "    <tr>\n",
              "      <th>27</th>\n",
              "      <td>1.26</td>\n",
              "      <td>3.08</td>\n",
              "      <td>1.78</td>\n",
              "      <td>1.73</td>\n",
              "    </tr>\n",
              "    <tr>\n",
              "      <th>28</th>\n",
              "      <td>1.08</td>\n",
              "      <td>2.03</td>\n",
              "      <td>1.32</td>\n",
              "      <td>1.27</td>\n",
              "    </tr>\n",
              "    <tr>\n",
              "      <th>29</th>\n",
              "      <td>0.40</td>\n",
              "      <td>1.13</td>\n",
              "      <td>0.54</td>\n",
              "      <td>0.52</td>\n",
              "    </tr>\n",
              "    <tr>\n",
              "      <th>30</th>\n",
              "      <td>0.37</td>\n",
              "      <td>0.52</td>\n",
              "      <td>0.44</td>\n",
              "      <td>0.44</td>\n",
              "    </tr>\n",
              "    <tr>\n",
              "      <th>31</th>\n",
              "      <td>1.20</td>\n",
              "      <td>2.07</td>\n",
              "      <td>1.40</td>\n",
              "      <td>1.38</td>\n",
              "    </tr>\n",
              "    <tr>\n",
              "      <th>32</th>\n",
              "      <td>0.96</td>\n",
              "      <td>1.96</td>\n",
              "      <td>1.17</td>\n",
              "      <td>1.14</td>\n",
              "    </tr>\n",
              "    <tr>\n",
              "      <th>33</th>\n",
              "      <td>0.21</td>\n",
              "      <td>0.33</td>\n",
              "      <td>0.26</td>\n",
              "      <td>0.26</td>\n",
              "    </tr>\n",
              "    <tr>\n",
              "      <th>34</th>\n",
              "      <td>0.84</td>\n",
              "      <td>1.62</td>\n",
              "      <td>0.97</td>\n",
              "      <td>0.95</td>\n",
              "    </tr>\n",
              "    <tr>\n",
              "      <th>35</th>\n",
              "      <td>0.58</td>\n",
              "      <td>1.78</td>\n",
              "      <td>0.92</td>\n",
              "      <td>0.85</td>\n",
              "    </tr>\n",
              "    <tr>\n",
              "      <th>36</th>\n",
              "      <td>0.27</td>\n",
              "      <td>0.49</td>\n",
              "      <td>0.37</td>\n",
              "      <td>0.37</td>\n",
              "    </tr>\n",
              "    <tr>\n",
              "      <th>37</th>\n",
              "      <td>0.45</td>\n",
              "      <td>0.61</td>\n",
              "      <td>0.52</td>\n",
              "      <td>0.52</td>\n",
              "    </tr>\n",
              "    <tr>\n",
              "      <th>38</th>\n",
              "      <td>0.30</td>\n",
              "      <td>0.50</td>\n",
              "      <td>0.39</td>\n",
              "      <td>0.38</td>\n",
              "    </tr>\n",
              "    <tr>\n",
              "      <th>39</th>\n",
              "      <td>1.16</td>\n",
              "      <td>2.55</td>\n",
              "      <td>1.45</td>\n",
              "      <td>1.42</td>\n",
              "    </tr>\n",
              "    <tr>\n",
              "      <th>40</th>\n",
              "      <td>0.76</td>\n",
              "      <td>1.65</td>\n",
              "      <td>0.96</td>\n",
              "      <td>0.95</td>\n",
              "    </tr>\n",
              "    <tr>\n",
              "      <th>41</th>\n",
              "      <td>0.99</td>\n",
              "      <td>2.26</td>\n",
              "      <td>1.27</td>\n",
              "      <td>1.24</td>\n",
              "    </tr>\n",
              "    <tr>\n",
              "      <th>42</th>\n",
              "      <td>0.43</td>\n",
              "      <td>0.67</td>\n",
              "      <td>0.56</td>\n",
              "      <td>0.56</td>\n",
              "    </tr>\n",
              "    <tr>\n",
              "      <th>43</th>\n",
              "      <td>0.51</td>\n",
              "      <td>0.73</td>\n",
              "      <td>0.63</td>\n",
              "      <td>0.63</td>\n",
              "    </tr>\n",
              "    <tr>\n",
              "      <th>44</th>\n",
              "      <td>0.24</td>\n",
              "      <td>0.38</td>\n",
              "      <td>0.30</td>\n",
              "      <td>0.30</td>\n",
              "    </tr>\n",
              "    <tr>\n",
              "      <th>45</th>\n",
              "      <td>0.62</td>\n",
              "      <td>1.68</td>\n",
              "      <td>0.79</td>\n",
              "      <td>0.76</td>\n",
              "    </tr>\n",
              "  </tbody>\n",
              "</table>\n",
              "</div>"
            ],
            "text/plain": [
              "        min   max  mean  median\n",
              "Store                          \n",
              "1      1.32  2.39  1.56    1.53\n",
              "2      1.65  3.44  1.93    1.88\n",
              "3      0.34  0.61  0.40    0.40\n",
              "4      1.76  3.68  2.09    2.07\n",
              "5      0.26  0.51  0.32    0.31\n",
              "6      1.26  2.73  1.56    1.52\n",
              "7      0.37  1.06  0.57    0.56\n",
              "8      0.77  1.51  0.91    0.89\n",
              "9      0.45  0.91  0.54    0.54\n",
              "10     1.63  3.75  1.90    1.83\n",
              "11     1.10  2.31  1.36    1.32\n",
              "12     0.80  1.77  1.01    0.98\n",
              "13     1.63  3.60  2.00    1.96\n",
              "14     1.48  3.82  2.02    2.00\n",
              "15     0.45  1.37  0.62    0.60\n",
              "16     0.37  1.00  0.52    0.51\n",
              "17     0.64  1.31  0.89    0.87\n",
              "18     0.54  2.03  1.08    1.06\n",
              "19     1.18  2.68  1.44    1.41\n",
              "20     1.76  3.77  2.11    2.05\n",
              "21     0.60  1.59  0.76    0.74\n",
              "22     0.77  1.96  1.03    1.00\n",
              "23     1.02  2.73  1.39    1.36\n",
              "24     1.06  2.39  1.36    1.34\n",
              "25     0.56  1.30  0.71    0.69\n",
              "26     0.81  1.57  1.00    1.00\n",
              "27     1.26  3.08  1.78    1.73\n",
              "28     1.08  2.03  1.32    1.27\n",
              "29     0.40  1.13  0.54    0.52\n",
              "30     0.37  0.52  0.44    0.44\n",
              "31     1.20  2.07  1.40    1.38\n",
              "32     0.96  1.96  1.17    1.14\n",
              "33     0.21  0.33  0.26    0.26\n",
              "34     0.84  1.62  0.97    0.95\n",
              "35     0.58  1.78  0.92    0.85\n",
              "36     0.27  0.49  0.37    0.37\n",
              "37     0.45  0.61  0.52    0.52\n",
              "38     0.30  0.50  0.39    0.38\n",
              "39     1.16  2.55  1.45    1.42\n",
              "40     0.76  1.65  0.96    0.95\n",
              "41     0.99  2.26  1.27    1.24\n",
              "42     0.43  0.67  0.56    0.56\n",
              "43     0.51  0.73  0.63    0.63\n",
              "44     0.24  0.38  0.30    0.30\n",
              "45     0.62  1.68  0.79    0.76"
            ]
          },
          "execution_count": 83,
          "metadata": {},
          "output_type": "execute_result"
        }
      ],
      "source": [
        "# Vendo como as vendas se comportam entre as lojas\n",
        "sales_stores = df.groupby('Store').Weekly_Sales.agg([min, max, 'mean', 'median'])\n",
        "\n",
        "#Modificando as unidades para milhões\n",
        "sales_stores = np.round(sales_stores / 1000000, 2)\n",
        "sales_stores"
      ]
    },
    {
      "cell_type": "markdown",
      "id": "037490e1",
      "metadata": {
        "id": "037490e1"
      },
      "source": [
        "### <p style=\"color: #2281e6\"> <b> 4° etapa - Qualidade dos dados</b></p>"
      ]
    },
    {
      "cell_type": "code",
      "execution_count": null,
      "id": "c26420c9",
      "metadata": {
        "id": "c26420c9",
        "outputId": "40d7549c-2553-4478-8330-1190370c346e"
      },
      "outputs": [
        {
          "data": {
            "text/plain": [
              "Store           0\n",
              "Date            0\n",
              "Weekly_Sales    0\n",
              "Holiday_Flag    0\n",
              "Temperature     0\n",
              "Fuel_Price      0\n",
              "CPI             0\n",
              "Unemployment    0\n",
              "dtype: int64"
            ]
          },
          "execution_count": 84,
          "metadata": {},
          "output_type": "execute_result"
        }
      ],
      "source": [
        "#Verificando se possui valores nulos\n",
        "df.isnull().sum()"
      ]
    },
    {
      "cell_type": "code",
      "execution_count": null,
      "id": "771fa919",
      "metadata": {
        "id": "771fa919",
        "outputId": "f5cf2154-5a61-45f6-c8c4-9bc375d68694"
      },
      "outputs": [
        {
          "data": {
            "text/html": [
              "<div>\n",
              "<style scoped>\n",
              "    .dataframe tbody tr th:only-of-type {\n",
              "        vertical-align: middle;\n",
              "    }\n",
              "\n",
              "    .dataframe tbody tr th {\n",
              "        vertical-align: top;\n",
              "    }\n",
              "\n",
              "    .dataframe thead th {\n",
              "        text-align: right;\n",
              "    }\n",
              "</style>\n",
              "<table border=\"1\" class=\"dataframe\">\n",
              "  <thead>\n",
              "    <tr style=\"text-align: right;\">\n",
              "      <th></th>\n",
              "      <th>Store</th>\n",
              "      <th>Weekly_Sales</th>\n",
              "      <th>Holiday_Flag</th>\n",
              "      <th>Temperature</th>\n",
              "      <th>Fuel_Price</th>\n",
              "      <th>CPI</th>\n",
              "      <th>Unemployment</th>\n",
              "    </tr>\n",
              "  </thead>\n",
              "  <tbody>\n",
              "    <tr>\n",
              "      <th>count</th>\n",
              "      <td>6435.000000</td>\n",
              "      <td>6.435000e+03</td>\n",
              "      <td>6435.000000</td>\n",
              "      <td>6435.000000</td>\n",
              "      <td>6435.000000</td>\n",
              "      <td>6435.000000</td>\n",
              "      <td>6435.000000</td>\n",
              "    </tr>\n",
              "    <tr>\n",
              "      <th>mean</th>\n",
              "      <td>23.000000</td>\n",
              "      <td>1.046965e+06</td>\n",
              "      <td>0.069930</td>\n",
              "      <td>60.663782</td>\n",
              "      <td>3.358607</td>\n",
              "      <td>171.578394</td>\n",
              "      <td>7.999151</td>\n",
              "    </tr>\n",
              "    <tr>\n",
              "      <th>std</th>\n",
              "      <td>12.988182</td>\n",
              "      <td>5.643666e+05</td>\n",
              "      <td>0.255049</td>\n",
              "      <td>18.444933</td>\n",
              "      <td>0.459020</td>\n",
              "      <td>39.356712</td>\n",
              "      <td>1.875885</td>\n",
              "    </tr>\n",
              "    <tr>\n",
              "      <th>min</th>\n",
              "      <td>1.000000</td>\n",
              "      <td>2.099862e+05</td>\n",
              "      <td>0.000000</td>\n",
              "      <td>-2.060000</td>\n",
              "      <td>2.472000</td>\n",
              "      <td>126.064000</td>\n",
              "      <td>3.879000</td>\n",
              "    </tr>\n",
              "    <tr>\n",
              "      <th>25%</th>\n",
              "      <td>12.000000</td>\n",
              "      <td>5.533501e+05</td>\n",
              "      <td>0.000000</td>\n",
              "      <td>47.460000</td>\n",
              "      <td>2.933000</td>\n",
              "      <td>131.735000</td>\n",
              "      <td>6.891000</td>\n",
              "    </tr>\n",
              "    <tr>\n",
              "      <th>50%</th>\n",
              "      <td>23.000000</td>\n",
              "      <td>9.607460e+05</td>\n",
              "      <td>0.000000</td>\n",
              "      <td>62.670000</td>\n",
              "      <td>3.445000</td>\n",
              "      <td>182.616521</td>\n",
              "      <td>7.874000</td>\n",
              "    </tr>\n",
              "    <tr>\n",
              "      <th>75%</th>\n",
              "      <td>34.000000</td>\n",
              "      <td>1.420159e+06</td>\n",
              "      <td>0.000000</td>\n",
              "      <td>74.940000</td>\n",
              "      <td>3.735000</td>\n",
              "      <td>212.743293</td>\n",
              "      <td>8.622000</td>\n",
              "    </tr>\n",
              "    <tr>\n",
              "      <th>max</th>\n",
              "      <td>45.000000</td>\n",
              "      <td>3.818686e+06</td>\n",
              "      <td>1.000000</td>\n",
              "      <td>100.140000</td>\n",
              "      <td>4.468000</td>\n",
              "      <td>227.232807</td>\n",
              "      <td>14.313000</td>\n",
              "    </tr>\n",
              "  </tbody>\n",
              "</table>\n",
              "</div>"
            ],
            "text/plain": [
              "             Store  Weekly_Sales  Holiday_Flag  Temperature   Fuel_Price  \\\n",
              "count  6435.000000  6.435000e+03   6435.000000  6435.000000  6435.000000   \n",
              "mean     23.000000  1.046965e+06      0.069930    60.663782     3.358607   \n",
              "std      12.988182  5.643666e+05      0.255049    18.444933     0.459020   \n",
              "min       1.000000  2.099862e+05      0.000000    -2.060000     2.472000   \n",
              "25%      12.000000  5.533501e+05      0.000000    47.460000     2.933000   \n",
              "50%      23.000000  9.607460e+05      0.000000    62.670000     3.445000   \n",
              "75%      34.000000  1.420159e+06      0.000000    74.940000     3.735000   \n",
              "max      45.000000  3.818686e+06      1.000000   100.140000     4.468000   \n",
              "\n",
              "               CPI  Unemployment  \n",
              "count  6435.000000   6435.000000  \n",
              "mean    171.578394      7.999151  \n",
              "std      39.356712      1.875885  \n",
              "min     126.064000      3.879000  \n",
              "25%     131.735000      6.891000  \n",
              "50%     182.616521      7.874000  \n",
              "75%     212.743293      8.622000  \n",
              "max     227.232807     14.313000  "
            ]
          },
          "execution_count": 85,
          "metadata": {},
          "output_type": "execute_result"
        }
      ],
      "source": [
        "#Verificando valores estatistico para tentar encontrar algum valor discrepante\n",
        "df.describe()"
      ]
    },
    {
      "cell_type": "markdown",
      "id": "755cbee5",
      "metadata": {
        "id": "755cbee5"
      },
      "source": [
        " "
      ]
    },
    {
      "cell_type": "markdown",
      "id": "cd596ee9",
      "metadata": {
        "id": "cd596ee9"
      },
      "source": [
        "## Data Preparation"
      ]
    },
    {
      "cell_type": "markdown",
      "id": "09781b8e",
      "metadata": {
        "id": "09781b8e"
      },
      "source": [
        "Nesta etapa, devemos tratar os dados para nos certificarmos que as informações estão de acordo com o esperado. Consistência de erros e ausência de valores deverão ser resolvidos <br/>\n",
        "Aqui existem 4 etapas de preparação: Seleção dos dados, Limpeza dos dados, Construção de dados e Integrando dados."
      ]
    },
    {
      "cell_type": "markdown",
      "id": "b693a22a",
      "metadata": {
        "id": "b693a22a"
      },
      "source": [
        "### <p style=\"color: #2281e6\"> <b> 1° etapa - Seleção dos dados</b></p>"
      ]
    },
    {
      "cell_type": "markdown",
      "id": "b4e85725",
      "metadata": {
        "id": "b4e85725"
      },
      "source": [
        "Foi definido que para chegar ao nosso objeto, as colunas \"Temperature\" e \"CPI\" não seriam necessárias, então foram removidas do dataset"
      ]
    },
    {
      "cell_type": "code",
      "execution_count": null,
      "id": "7ed0913c",
      "metadata": {
        "id": "7ed0913c",
        "outputId": "e7ab2cd6-a462-479a-acbc-5e84cacb6c5e"
      },
      "outputs": [
        {
          "data": {
            "text/html": [
              "<div>\n",
              "<style scoped>\n",
              "    .dataframe tbody tr th:only-of-type {\n",
              "        vertical-align: middle;\n",
              "    }\n",
              "\n",
              "    .dataframe tbody tr th {\n",
              "        vertical-align: top;\n",
              "    }\n",
              "\n",
              "    .dataframe thead th {\n",
              "        text-align: right;\n",
              "    }\n",
              "</style>\n",
              "<table border=\"1\" class=\"dataframe\">\n",
              "  <thead>\n",
              "    <tr style=\"text-align: right;\">\n",
              "      <th></th>\n",
              "      <th>Store</th>\n",
              "      <th>Date</th>\n",
              "      <th>Weekly_Sales</th>\n",
              "      <th>Holiday_Flag</th>\n",
              "      <th>Fuel_Price</th>\n",
              "      <th>Unemployment</th>\n",
              "    </tr>\n",
              "  </thead>\n",
              "  <tbody>\n",
              "    <tr>\n",
              "      <th>0</th>\n",
              "      <td>1</td>\n",
              "      <td>05-02-2010</td>\n",
              "      <td>1643690.90</td>\n",
              "      <td>0</td>\n",
              "      <td>2.572</td>\n",
              "      <td>8.106</td>\n",
              "    </tr>\n",
              "    <tr>\n",
              "      <th>1</th>\n",
              "      <td>1</td>\n",
              "      <td>12-02-2010</td>\n",
              "      <td>1641957.44</td>\n",
              "      <td>1</td>\n",
              "      <td>2.548</td>\n",
              "      <td>8.106</td>\n",
              "    </tr>\n",
              "    <tr>\n",
              "      <th>2</th>\n",
              "      <td>1</td>\n",
              "      <td>19-02-2010</td>\n",
              "      <td>1611968.17</td>\n",
              "      <td>0</td>\n",
              "      <td>2.514</td>\n",
              "      <td>8.106</td>\n",
              "    </tr>\n",
              "    <tr>\n",
              "      <th>3</th>\n",
              "      <td>1</td>\n",
              "      <td>26-02-2010</td>\n",
              "      <td>1409727.59</td>\n",
              "      <td>0</td>\n",
              "      <td>2.561</td>\n",
              "      <td>8.106</td>\n",
              "    </tr>\n",
              "    <tr>\n",
              "      <th>4</th>\n",
              "      <td>1</td>\n",
              "      <td>05-03-2010</td>\n",
              "      <td>1554806.68</td>\n",
              "      <td>0</td>\n",
              "      <td>2.625</td>\n",
              "      <td>8.106</td>\n",
              "    </tr>\n",
              "    <tr>\n",
              "      <th>...</th>\n",
              "      <td>...</td>\n",
              "      <td>...</td>\n",
              "      <td>...</td>\n",
              "      <td>...</td>\n",
              "      <td>...</td>\n",
              "      <td>...</td>\n",
              "    </tr>\n",
              "    <tr>\n",
              "      <th>6430</th>\n",
              "      <td>45</td>\n",
              "      <td>28-09-2012</td>\n",
              "      <td>713173.95</td>\n",
              "      <td>0</td>\n",
              "      <td>3.997</td>\n",
              "      <td>8.684</td>\n",
              "    </tr>\n",
              "    <tr>\n",
              "      <th>6431</th>\n",
              "      <td>45</td>\n",
              "      <td>05-10-2012</td>\n",
              "      <td>733455.07</td>\n",
              "      <td>0</td>\n",
              "      <td>3.985</td>\n",
              "      <td>8.667</td>\n",
              "    </tr>\n",
              "    <tr>\n",
              "      <th>6432</th>\n",
              "      <td>45</td>\n",
              "      <td>12-10-2012</td>\n",
              "      <td>734464.36</td>\n",
              "      <td>0</td>\n",
              "      <td>4.000</td>\n",
              "      <td>8.667</td>\n",
              "    </tr>\n",
              "    <tr>\n",
              "      <th>6433</th>\n",
              "      <td>45</td>\n",
              "      <td>19-10-2012</td>\n",
              "      <td>718125.53</td>\n",
              "      <td>0</td>\n",
              "      <td>3.969</td>\n",
              "      <td>8.667</td>\n",
              "    </tr>\n",
              "    <tr>\n",
              "      <th>6434</th>\n",
              "      <td>45</td>\n",
              "      <td>26-10-2012</td>\n",
              "      <td>760281.43</td>\n",
              "      <td>0</td>\n",
              "      <td>3.882</td>\n",
              "      <td>8.667</td>\n",
              "    </tr>\n",
              "  </tbody>\n",
              "</table>\n",
              "<p>6435 rows × 6 columns</p>\n",
              "</div>"
            ],
            "text/plain": [
              "      Store        Date  Weekly_Sales  Holiday_Flag  Fuel_Price  Unemployment\n",
              "0         1  05-02-2010    1643690.90             0       2.572         8.106\n",
              "1         1  12-02-2010    1641957.44             1       2.548         8.106\n",
              "2         1  19-02-2010    1611968.17             0       2.514         8.106\n",
              "3         1  26-02-2010    1409727.59             0       2.561         8.106\n",
              "4         1  05-03-2010    1554806.68             0       2.625         8.106\n",
              "...     ...         ...           ...           ...         ...           ...\n",
              "6430     45  28-09-2012     713173.95             0       3.997         8.684\n",
              "6431     45  05-10-2012     733455.07             0       3.985         8.667\n",
              "6432     45  12-10-2012     734464.36             0       4.000         8.667\n",
              "6433     45  19-10-2012     718125.53             0       3.969         8.667\n",
              "6434     45  26-10-2012     760281.43             0       3.882         8.667\n",
              "\n",
              "[6435 rows x 6 columns]"
            ]
          },
          "execution_count": 86,
          "metadata": {},
          "output_type": "execute_result"
        }
      ],
      "source": [
        "clean_df = df.drop(columns=['Temperature', 'CPI'])\n",
        "clean_df"
      ]
    },
    {
      "cell_type": "markdown",
      "id": "bc5ce441",
      "metadata": {
        "id": "bc5ce441"
      },
      "source": [
        "### <p style=\"color: #2281e6\"> <b> 2° etapa - Limpeza dos dados</b></p>"
      ]
    },
    {
      "cell_type": "markdown",
      "id": "f4b5a440",
      "metadata": {
        "id": "f4b5a440"
      },
      "source": [
        "Nossos dados estão de uma maneira geral, com coerência. Não possuem valores nulos, e nem dados inconsistentes"
      ]
    },
    {
      "cell_type": "markdown",
      "id": "58e2c72d",
      "metadata": {
        "id": "58e2c72d"
      },
      "source": [
        "### <p style=\"color: #2281e6\"> <b> 3° etapa - Construção de dados</b></p>"
      ]
    },
    {
      "cell_type": "code",
      "execution_count": null,
      "id": "b1942e4d",
      "metadata": {
        "id": "b1942e4d"
      },
      "outputs": [],
      "source": [
        ""
      ]
    },
    {
      "cell_type": "code",
      "execution_count": null,
      "id": "683a82d0",
      "metadata": {
        "id": "683a82d0"
      },
      "outputs": [],
      "source": [
        ""
      ]
    },
    {
      "cell_type": "code",
      "execution_count": null,
      "id": "dd4c4a60",
      "metadata": {
        "id": "dd4c4a60"
      },
      "outputs": [],
      "source": [
        ""
      ]
    },
    {
      "cell_type": "markdown",
      "id": "2a7fd7d4",
      "metadata": {
        "id": "2a7fd7d4"
      },
      "source": [
        "### <p style=\"color: #2281e6\"> <b> 4° etapa - Integrando dados</b></p>"
      ]
    },
    {
      "cell_type": "markdown",
      "id": "a300055e",
      "metadata": {
        "id": "a300055e"
      },
      "source": [
        "Não haverá integração de dados"
      ]
    }
  ],
  "metadata": {
    "kernelspec": {
      "display_name": "Python 3",
      "language": "python",
      "name": "python3"
    },
    "language_info": {
      "codemirror_mode": {
        "name": "ipython",
        "version": 3
      },
      "file_extension": ".py",
      "mimetype": "text/x-python",
      "name": "python",
      "nbconvert_exporter": "python",
      "pygments_lexer": "ipython3",
      "version": "3.8.8"
    },
    "varInspector": {
      "cols": {
        "lenName": 16,
        "lenType": 16,
        "lenVar": 40
      },
      "kernels_config": {
        "python": {
          "delete_cmd_postfix": "",
          "delete_cmd_prefix": "del ",
          "library": "var_list.py",
          "varRefreshCmd": "print(var_dic_list())"
        },
        "r": {
          "delete_cmd_postfix": ") ",
          "delete_cmd_prefix": "rm(",
          "library": "var_list.r",
          "varRefreshCmd": "cat(var_dic_list()) "
        }
      },
      "types_to_exclude": [
        "module",
        "function",
        "builtin_function_or_method",
        "instance",
        "_Feature"
      ],
      "window_display": false
    },
    "colab": {
      "name": "1_4931966411204461034.ipynb",
      "provenance": []
    }
  },
  "nbformat": 4,
  "nbformat_minor": 5
}